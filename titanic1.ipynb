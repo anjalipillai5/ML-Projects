{
 "cells": [
  {
   "cell_type": "code",
   "execution_count": 1,
   "metadata": {
    "_cell_guid": "b1076dfc-b9ad-4769-8c92-a6c4dae69d19",
    "_uuid": "8f2839f25d086af736a60e9eeb907d3b93b6e0e5",
    "execution": {
     "iopub.execute_input": "2020-08-19T15:19:27.457805Z",
     "iopub.status.busy": "2020-08-19T15:19:27.456805Z",
     "iopub.status.idle": "2020-08-19T15:19:27.462999Z",
     "shell.execute_reply": "2020-08-19T15:19:27.462284Z"
    },
    "papermill": {
     "duration": 0.057341,
     "end_time": "2020-08-19T15:19:27.463143",
     "exception": false,
     "start_time": "2020-08-19T15:19:27.405802",
     "status": "completed"
    },
    "tags": []
   },
   "outputs": [
    {
     "name": "stdout",
     "output_type": "stream",
     "text": [
      "/kaggle/input/titanic/train.csv\n",
      "/kaggle/input/titanic/gender_submission.csv\n",
      "/kaggle/input/titanic/test.csv\n"
     ]
    }
   ],
   "source": [
    "# This Python 3 environment comes with many helpful analytics libraries installed\n",
    "# It is defined by the kaggle/python Docker image: https://github.com/kaggle/docker-python\n",
    "# For example, here's several helpful packages to load\n",
    "\n",
    "import numpy as np # linear algebra\n",
    "import pandas as pd # data processing, CSV file I/O (e.g. pd.read_csv)\n",
    "\n",
    "# Input data files are available in the read-only \"../input/\" directory\n",
    "# For example, running this (by clicking run or pressing Shift+Enter) will list all files under the input directory\n",
    "\n",
    "import os\n",
    "for dirname, _, filenames in os.walk('/kaggle/input'):\n",
    "    for filename in filenames:\n",
    "        print(os.path.join(dirname, filename))\n",
    "\n",
    "# You can write up to 5GB to the current directory (/kaggle/working/) that gets preserved as output when you create a version using \"Save & Run All\" \n",
    "# You can also write temporary files to /kaggle/temp/, but they won't be saved outside of the current session"
   ]
  },
  {
   "cell_type": "code",
   "execution_count": 2,
   "metadata": {
    "_cell_guid": "79c7e3d0-c299-4dcb-8224-4455121ee9b0",
    "_uuid": "d629ff2d2480ee46fbb7e2d37f6b5fab8052498a",
    "execution": {
     "iopub.execute_input": "2020-08-19T15:19:27.555997Z",
     "iopub.status.busy": "2020-08-19T15:19:27.555122Z",
     "iopub.status.idle": "2020-08-19T15:19:27.587340Z",
     "shell.execute_reply": "2020-08-19T15:19:27.587940Z"
    },
    "papermill": {
     "duration": 0.081136,
     "end_time": "2020-08-19T15:19:27.588124",
     "exception": false,
     "start_time": "2020-08-19T15:19:27.506988",
     "status": "completed"
    },
    "tags": []
   },
   "outputs": [],
   "source": [
    "train=pd.read_csv('/kaggle/input/titanic/train.csv')\n",
    "test=pd.read_csv('/kaggle/input/titanic/test.csv')\n",
    "data=pd.concat([train,test],ignore_index=True)"
   ]
  },
  {
   "cell_type": "code",
   "execution_count": 3,
   "metadata": {
    "execution": {
     "iopub.execute_input": "2020-08-19T15:19:27.689690Z",
     "iopub.status.busy": "2020-08-19T15:19:27.679233Z",
     "iopub.status.idle": "2020-08-19T15:19:27.703880Z",
     "shell.execute_reply": "2020-08-19T15:19:27.703243Z"
    },
    "papermill": {
     "duration": 0.072285,
     "end_time": "2020-08-19T15:19:27.704018",
     "exception": false,
     "start_time": "2020-08-19T15:19:27.631733",
     "status": "completed"
    },
    "tags": []
   },
   "outputs": [
    {
     "data": {
      "text/html": [
       "<div>\n",
       "<style scoped>\n",
       "    .dataframe tbody tr th:only-of-type {\n",
       "        vertical-align: middle;\n",
       "    }\n",
       "\n",
       "    .dataframe tbody tr th {\n",
       "        vertical-align: top;\n",
       "    }\n",
       "\n",
       "    .dataframe thead th {\n",
       "        text-align: right;\n",
       "    }\n",
       "</style>\n",
       "<table border=\"1\" class=\"dataframe\">\n",
       "  <thead>\n",
       "    <tr style=\"text-align: right;\">\n",
       "      <th></th>\n",
       "      <th>PassengerId</th>\n",
       "      <th>Survived</th>\n",
       "      <th>Pclass</th>\n",
       "      <th>Name</th>\n",
       "      <th>Sex</th>\n",
       "      <th>Age</th>\n",
       "      <th>SibSp</th>\n",
       "      <th>Parch</th>\n",
       "      <th>Ticket</th>\n",
       "      <th>Fare</th>\n",
       "      <th>Cabin</th>\n",
       "      <th>Embarked</th>\n",
       "    </tr>\n",
       "  </thead>\n",
       "  <tbody>\n",
       "    <tr>\n",
       "      <th>0</th>\n",
       "      <td>1</td>\n",
       "      <td>0.0</td>\n",
       "      <td>3</td>\n",
       "      <td>Braund, Mr. Owen Harris</td>\n",
       "      <td>male</td>\n",
       "      <td>22.0</td>\n",
       "      <td>1</td>\n",
       "      <td>0</td>\n",
       "      <td>A/5 21171</td>\n",
       "      <td>7.2500</td>\n",
       "      <td>NaN</td>\n",
       "      <td>S</td>\n",
       "    </tr>\n",
       "    <tr>\n",
       "      <th>1</th>\n",
       "      <td>2</td>\n",
       "      <td>1.0</td>\n",
       "      <td>1</td>\n",
       "      <td>Cumings, Mrs. John Bradley (Florence Briggs Th...</td>\n",
       "      <td>female</td>\n",
       "      <td>38.0</td>\n",
       "      <td>1</td>\n",
       "      <td>0</td>\n",
       "      <td>PC 17599</td>\n",
       "      <td>71.2833</td>\n",
       "      <td>C85</td>\n",
       "      <td>C</td>\n",
       "    </tr>\n",
       "    <tr>\n",
       "      <th>2</th>\n",
       "      <td>3</td>\n",
       "      <td>1.0</td>\n",
       "      <td>3</td>\n",
       "      <td>Heikkinen, Miss. Laina</td>\n",
       "      <td>female</td>\n",
       "      <td>26.0</td>\n",
       "      <td>0</td>\n",
       "      <td>0</td>\n",
       "      <td>STON/O2. 3101282</td>\n",
       "      <td>7.9250</td>\n",
       "      <td>NaN</td>\n",
       "      <td>S</td>\n",
       "    </tr>\n",
       "    <tr>\n",
       "      <th>3</th>\n",
       "      <td>4</td>\n",
       "      <td>1.0</td>\n",
       "      <td>1</td>\n",
       "      <td>Futrelle, Mrs. Jacques Heath (Lily May Peel)</td>\n",
       "      <td>female</td>\n",
       "      <td>35.0</td>\n",
       "      <td>1</td>\n",
       "      <td>0</td>\n",
       "      <td>113803</td>\n",
       "      <td>53.1000</td>\n",
       "      <td>C123</td>\n",
       "      <td>S</td>\n",
       "    </tr>\n",
       "    <tr>\n",
       "      <th>4</th>\n",
       "      <td>5</td>\n",
       "      <td>0.0</td>\n",
       "      <td>3</td>\n",
       "      <td>Allen, Mr. William Henry</td>\n",
       "      <td>male</td>\n",
       "      <td>35.0</td>\n",
       "      <td>0</td>\n",
       "      <td>0</td>\n",
       "      <td>373450</td>\n",
       "      <td>8.0500</td>\n",
       "      <td>NaN</td>\n",
       "      <td>S</td>\n",
       "    </tr>\n",
       "  </tbody>\n",
       "</table>\n",
       "</div>"
      ],
      "text/plain": [
       "   PassengerId  Survived  Pclass  \\\n",
       "0            1       0.0       3   \n",
       "1            2       1.0       1   \n",
       "2            3       1.0       3   \n",
       "3            4       1.0       1   \n",
       "4            5       0.0       3   \n",
       "\n",
       "                                                Name     Sex   Age  SibSp  \\\n",
       "0                            Braund, Mr. Owen Harris    male  22.0      1   \n",
       "1  Cumings, Mrs. John Bradley (Florence Briggs Th...  female  38.0      1   \n",
       "2                             Heikkinen, Miss. Laina  female  26.0      0   \n",
       "3       Futrelle, Mrs. Jacques Heath (Lily May Peel)  female  35.0      1   \n",
       "4                           Allen, Mr. William Henry    male  35.0      0   \n",
       "\n",
       "   Parch            Ticket     Fare Cabin Embarked  \n",
       "0      0         A/5 21171   7.2500   NaN        S  \n",
       "1      0          PC 17599  71.2833   C85        C  \n",
       "2      0  STON/O2. 3101282   7.9250   NaN        S  \n",
       "3      0            113803  53.1000  C123        S  \n",
       "4      0            373450   8.0500   NaN        S  "
      ]
     },
     "execution_count": 3,
     "metadata": {},
     "output_type": "execute_result"
    }
   ],
   "source": [
    "data.head()"
   ]
  },
  {
   "cell_type": "code",
   "execution_count": 4,
   "metadata": {
    "execution": {
     "iopub.execute_input": "2020-08-19T15:19:27.796248Z",
     "iopub.status.busy": "2020-08-19T15:19:27.795453Z",
     "iopub.status.idle": "2020-08-19T15:19:27.805976Z",
     "shell.execute_reply": "2020-08-19T15:19:27.805322Z"
    },
    "papermill": {
     "duration": 0.059146,
     "end_time": "2020-08-19T15:19:27.806106",
     "exception": false,
     "start_time": "2020-08-19T15:19:27.746960",
     "status": "completed"
    },
    "tags": []
   },
   "outputs": [
    {
     "data": {
      "text/plain": [
       "Cabin          1014\n",
       "Survived        418\n",
       "Age             263\n",
       "Embarked          2\n",
       "Fare              1\n",
       "Ticket            0\n",
       "Parch             0\n",
       "SibSp             0\n",
       "Sex               0\n",
       "Name              0\n",
       "Pclass            0\n",
       "PassengerId       0\n",
       "dtype: int64"
      ]
     },
     "execution_count": 4,
     "metadata": {},
     "output_type": "execute_result"
    }
   ],
   "source": [
    "data.isnull().sum().sort_values(ascending=False)"
   ]
  },
  {
   "cell_type": "code",
   "execution_count": 5,
   "metadata": {
    "execution": {
     "iopub.execute_input": "2020-08-19T15:19:27.902787Z",
     "iopub.status.busy": "2020-08-19T15:19:27.901922Z",
     "iopub.status.idle": "2020-08-19T15:19:27.906720Z",
     "shell.execute_reply": "2020-08-19T15:19:27.906080Z"
    },
    "papermill": {
     "duration": 0.057061,
     "end_time": "2020-08-19T15:19:27.906849",
     "exception": false,
     "start_time": "2020-08-19T15:19:27.849788",
     "status": "completed"
    },
    "tags": []
   },
   "outputs": [
    {
     "data": {
      "text/plain": [
       "0.774637127578304"
      ]
     },
     "execution_count": 5,
     "metadata": {},
     "output_type": "execute_result"
    }
   ],
   "source": [
    "data['Cabin'].isnull().sum()/len(data)"
   ]
  },
  {
   "cell_type": "code",
   "execution_count": 6,
   "metadata": {
    "execution": {
     "iopub.execute_input": "2020-08-19T15:19:28.003105Z",
     "iopub.status.busy": "2020-08-19T15:19:28.002297Z",
     "iopub.status.idle": "2020-08-19T15:19:29.014907Z",
     "shell.execute_reply": "2020-08-19T15:19:29.014061Z"
    },
    "papermill": {
     "duration": 1.064134,
     "end_time": "2020-08-19T15:19:29.015046",
     "exception": false,
     "start_time": "2020-08-19T15:19:27.950912",
     "status": "completed"
    },
    "tags": []
   },
   "outputs": [],
   "source": [
    "import matplotlib.pyplot as plt\n",
    "import seaborn as sns\n",
    "import warnings\n",
    "warnings.filterwarnings('ignore')"
   ]
  },
  {
   "cell_type": "code",
   "execution_count": 7,
   "metadata": {
    "execution": {
     "iopub.execute_input": "2020-08-19T15:19:29.120313Z",
     "iopub.status.busy": "2020-08-19T15:19:29.119369Z",
     "iopub.status.idle": "2020-08-19T15:19:29.124164Z",
     "shell.execute_reply": "2020-08-19T15:19:29.123540Z"
    },
    "papermill": {
     "duration": 0.064117,
     "end_time": "2020-08-19T15:19:29.124350",
     "exception": false,
     "start_time": "2020-08-19T15:19:29.060233",
     "status": "completed"
    },
    "tags": []
   },
   "outputs": [
    {
     "data": {
      "text/plain": [
       "S    914\n",
       "C    270\n",
       "Q    123\n",
       "Name: Embarked, dtype: int64"
      ]
     },
     "execution_count": 7,
     "metadata": {},
     "output_type": "execute_result"
    }
   ],
   "source": [
    "data['Embarked'].value_counts()"
   ]
  },
  {
   "cell_type": "code",
   "execution_count": 8,
   "metadata": {
    "execution": {
     "iopub.execute_input": "2020-08-19T15:19:29.224866Z",
     "iopub.status.busy": "2020-08-19T15:19:29.223667Z",
     "iopub.status.idle": "2020-08-19T15:19:29.424546Z",
     "shell.execute_reply": "2020-08-19T15:19:29.423906Z"
    },
    "papermill": {
     "duration": 0.254198,
     "end_time": "2020-08-19T15:19:29.424691",
     "exception": false,
     "start_time": "2020-08-19T15:19:29.170493",
     "status": "completed"
    },
    "tags": []
   },
   "outputs": [
    {
     "data": {
      "text/plain": [
       "<matplotlib.axes._subplots.AxesSubplot at 0x7f507e0d5c10>"
      ]
     },
     "execution_count": 8,
     "metadata": {},
     "output_type": "execute_result"
    },
    {
     "data": {
      "image/png": "[encoded data removed]",
      "text/plain": [
       "<Figure size 432x288 with 1 Axes>"
      ]
     },
     "metadata": {
      "needs_background": "light"
     },
     "output_type": "display_data"
    }
   ],
   "source": [
    "sns.countplot('Embarked',data=data)"
   ]
  },
  {
   "cell_type": "code",
   "execution_count": 9,
   "metadata": {
    "execution": {
     "iopub.execute_input": "2020-08-19T15:19:29.530956Z",
     "iopub.status.busy": "2020-08-19T15:19:29.525907Z",
     "iopub.status.idle": "2020-08-19T15:19:29.881186Z",
     "shell.execute_reply": "2020-08-19T15:19:29.880543Z"
    },
    "papermill": {
     "duration": 0.410444,
     "end_time": "2020-08-19T15:19:29.881343",
     "exception": false,
     "start_time": "2020-08-19T15:19:29.470899",
     "status": "completed"
    },
    "tags": []
   },
   "outputs": [
    {
     "data": {
      "text/plain": [
       "<matplotlib.axes._subplots.AxesSubplot at 0x7f507debb150>"
      ]
     },
     "execution_count": 9,
     "metadata": {},
     "output_type": "execute_result"
    },
    {
     "data": {
      "image/png": "[encoded data removed]",
      "text/plain": [
       "<Figure size 576x432 with 2 Axes>"
      ]
     },
     "metadata": {
      "needs_background": "light"
     },
     "output_type": "display_data"
    }
   ],
   "source": [
    "f,ax=plt.subplots(1,2,figsize=(8,6))\n",
    "sns.countplot('Embarked',hue='Survived',data=data, ax=ax[0])\n",
    "sns.countplot('Embarked',hue='Sex',data=data, ax=ax[1])"
   ]
  },
  {
   "cell_type": "code",
   "execution_count": 10,
   "metadata": {
    "execution": {
     "iopub.execute_input": "2020-08-19T15:19:29.984519Z",
     "iopub.status.busy": "2020-08-19T15:19:29.983473Z",
     "iopub.status.idle": "2020-08-19T15:19:29.986940Z",
     "shell.execute_reply": "2020-08-19T15:19:29.986171Z"
    },
    "papermill": {
     "duration": 0.058055,
     "end_time": "2020-08-19T15:19:29.987075",
     "exception": false,
     "start_time": "2020-08-19T15:19:29.929020",
     "status": "completed"
    },
    "tags": []
   },
   "outputs": [],
   "source": [
    "data['Embarked'].fillna('S',inplace=True)"
   ]
  },
  {
   "cell_type": "code",
   "execution_count": 11,
   "metadata": {
    "execution": {
     "iopub.execute_input": "2020-08-19T15:19:30.095115Z",
     "iopub.status.busy": "2020-08-19T15:19:30.094326Z",
     "iopub.status.idle": "2020-08-19T15:19:30.298557Z",
     "shell.execute_reply": "2020-08-19T15:19:30.297844Z"
    },
    "papermill": {
     "duration": 0.263886,
     "end_time": "2020-08-19T15:19:30.298695",
     "exception": false,
     "start_time": "2020-08-19T15:19:30.034809",
     "status": "completed"
    },
    "tags": []
   },
   "outputs": [
    {
     "data": {
      "text/plain": [
       "<matplotlib.axes._subplots.AxesSubplot at 0x7f507ddea390>"
      ]
     },
     "execution_count": 11,
     "metadata": {},
     "output_type": "execute_result"
    },
    {
     "data": {
      "image/png": "[encoded data removed]",
      "text/plain": [
       "<Figure size 432x288 with 1 Axes>"
      ]
     },
     "metadata": {
      "needs_background": "light"
     },
     "output_type": "display_data"
    }
   ],
   "source": [
    "sns.distplot(data['Age'])"
   ]
  },
  {
   "cell_type": "code",
   "execution_count": 12,
   "metadata": {
    "execution": {
     "iopub.execute_input": "2020-08-19T15:19:30.406965Z",
     "iopub.status.busy": "2020-08-19T15:19:30.406115Z",
     "iopub.status.idle": "2020-08-19T15:19:30.416971Z",
     "shell.execute_reply": "2020-08-19T15:19:30.416122Z"
    },
    "papermill": {
     "duration": 0.067545,
     "end_time": "2020-08-19T15:19:30.417114",
     "exception": false,
     "start_time": "2020-08-19T15:19:30.349569",
     "status": "completed"
    },
    "tags": []
   },
   "outputs": [
    {
     "data": {
      "text/plain": [
       "count    1046.000000\n",
       "mean       29.881138\n",
       "std        14.413493\n",
       "min         0.170000\n",
       "25%        21.000000\n",
       "50%        28.000000\n",
       "75%        39.000000\n",
       "max        80.000000\n",
       "Name: Age, dtype: float64"
      ]
     },
     "execution_count": 12,
     "metadata": {},
     "output_type": "execute_result"
    }
   ],
   "source": [
    "data['Age'].describe()"
   ]
  },
  {
   "cell_type": "code",
   "execution_count": 13,
   "metadata": {
    "execution": {
     "iopub.execute_input": "2020-08-19T15:19:30.599069Z",
     "iopub.status.busy": "2020-08-19T15:19:30.545614Z",
     "iopub.status.idle": "2020-08-19T15:19:30.617484Z",
     "shell.execute_reply": "2020-08-19T15:19:30.616746Z"
    },
    "papermill": {
     "duration": 0.150372,
     "end_time": "2020-08-19T15:19:30.617629",
     "exception": false,
     "start_time": "2020-08-19T15:19:30.467257",
     "status": "completed"
    },
    "tags": []
   },
   "outputs": [],
   "source": [
    "data['initial']=0\n",
    "for i in data:\n",
    "    data['initial']=data.Name.str.extract('([A-Za-z]+)\\.')\n",
    "    "
   ]
  },
  {
   "cell_type": "code",
   "execution_count": 14,
   "metadata": {
    "execution": {
     "iopub.execute_input": "2020-08-19T15:19:30.726691Z",
     "iopub.status.busy": "2020-08-19T15:19:30.725483Z",
     "iopub.status.idle": "2020-08-19T15:19:30.730043Z",
     "shell.execute_reply": "2020-08-19T15:19:30.729281Z"
    },
    "papermill": {
     "duration": 0.061883,
     "end_time": "2020-08-19T15:19:30.730179",
     "exception": false,
     "start_time": "2020-08-19T15:19:30.668296",
     "status": "completed"
    },
    "tags": []
   },
   "outputs": [
    {
     "data": {
      "text/plain": [
       "array(['Mr', 'Mrs', 'Miss', 'Master', 'Don', 'Rev', 'Dr', 'Mme', 'Ms',\n",
       "       'Major', 'Lady', 'Sir', 'Mlle', 'Col', 'Capt', 'Countess',\n",
       "       'Jonkheer', 'Dona'], dtype=object)"
      ]
     },
     "execution_count": 14,
     "metadata": {},
     "output_type": "execute_result"
    }
   ],
   "source": [
    "data['initial'].unique()"
   ]
  },
  {
   "cell_type": "code",
   "execution_count": 15,
   "metadata": {
    "execution": {
     "iopub.execute_input": "2020-08-19T15:19:30.843785Z",
     "iopub.status.busy": "2020-08-19T15:19:30.842512Z",
     "iopub.status.idle": "2020-08-19T15:19:30.850662Z",
     "shell.execute_reply": "2020-08-19T15:19:30.849932Z"
    },
    "papermill": {
     "duration": 0.069991,
     "end_time": "2020-08-19T15:19:30.850800",
     "exception": false,
     "start_time": "2020-08-19T15:19:30.780809",
     "status": "completed"
    },
    "tags": []
   },
   "outputs": [],
   "source": [
    "data['initial'].replace(['Mr', 'Mrs', 'Miss', 'Master', 'Don', 'Rev', 'Dr', 'Mme', 'Ms','Major', 'Lady', 'Sir', 'Mlle', 'Col', 'Capt', 'Countess',\n",
    "       'Jonkheer', 'Dona'],[0,1,2,3,0,0,0,2,2,0,1,0,2,0,0,1,1,1],inplace=True)"
   ]
  },
  {
   "cell_type": "code",
   "execution_count": 16,
   "metadata": {
    "execution": {
     "iopub.execute_input": "2020-08-19T15:19:30.968342Z",
     "iopub.status.busy": "2020-08-19T15:19:30.959538Z",
     "iopub.status.idle": "2020-08-19T15:19:30.973508Z",
     "shell.execute_reply": "2020-08-19T15:19:30.972731Z"
    },
    "papermill": {
     "duration": 0.071157,
     "end_time": "2020-08-19T15:19:30.973647",
     "exception": false,
     "start_time": "2020-08-19T15:19:30.902490",
     "status": "completed"
    },
    "tags": []
   },
   "outputs": [
    {
     "data": {
      "text/html": [
       "<div>\n",
       "<style scoped>\n",
       "    .dataframe tbody tr th:only-of-type {\n",
       "        vertical-align: middle;\n",
       "    }\n",
       "\n",
       "    .dataframe tbody tr th {\n",
       "        vertical-align: top;\n",
       "    }\n",
       "\n",
       "    .dataframe thead th {\n",
       "        text-align: right;\n",
       "    }\n",
       "</style>\n",
       "<table border=\"1\" class=\"dataframe\">\n",
       "  <thead>\n",
       "    <tr style=\"text-align: right;\">\n",
       "      <th></th>\n",
       "      <th>Age</th>\n",
       "    </tr>\n",
       "    <tr>\n",
       "      <th>initial</th>\n",
       "      <th></th>\n",
       "    </tr>\n",
       "  </thead>\n",
       "  <tbody>\n",
       "    <tr>\n",
       "      <th>0</th>\n",
       "      <td>32.802479</td>\n",
       "    </tr>\n",
       "    <tr>\n",
       "      <th>1</th>\n",
       "      <td>37.051724</td>\n",
       "    </tr>\n",
       "    <tr>\n",
       "      <th>2</th>\n",
       "      <td>21.834533</td>\n",
       "    </tr>\n",
       "    <tr>\n",
       "      <th>3</th>\n",
       "      <td>5.482642</td>\n",
       "    </tr>\n",
       "  </tbody>\n",
       "</table>\n",
       "</div>"
      ],
      "text/plain": [
       "               Age\n",
       "initial           \n",
       "0        32.802479\n",
       "1        37.051724\n",
       "2        21.834533\n",
       "3         5.482642"
      ]
     },
     "execution_count": 16,
     "metadata": {},
     "output_type": "execute_result"
    }
   ],
   "source": [
    "data.groupby('initial')['Age'].mean().to_frame()"
   ]
  },
  {
   "cell_type": "code",
   "execution_count": 17,
   "metadata": {
    "execution": {
     "iopub.execute_input": "2020-08-19T15:19:31.097542Z",
     "iopub.status.busy": "2020-08-19T15:19:31.096691Z",
     "iopub.status.idle": "2020-08-19T15:19:31.099881Z",
     "shell.execute_reply": "2020-08-19T15:19:31.099130Z"
    },
    "papermill": {
     "duration": 0.074791,
     "end_time": "2020-08-19T15:19:31.100016",
     "exception": false,
     "start_time": "2020-08-19T15:19:31.025225",
     "status": "completed"
    },
    "tags": []
   },
   "outputs": [],
   "source": [
    "data.loc[(data.Age.isnull())&(data.initial==0),'Age']=33\n",
    "data.loc[(data.Age.isnull())&(data.initial==1),'Age']=37\n",
    "data.loc[(data.Age.isnull())&(data.initial==2),'Age']=22\n",
    "data.loc[(data.Age.isnull())&(data.initial==3),'Age']=5"
   ]
  },
  {
   "cell_type": "code",
   "execution_count": 18,
   "metadata": {
    "execution": {
     "iopub.execute_input": "2020-08-19T15:19:31.219120Z",
     "iopub.status.busy": "2020-08-19T15:19:31.218331Z",
     "iopub.status.idle": "2020-08-19T15:19:31.224242Z",
     "shell.execute_reply": "2020-08-19T15:19:31.223602Z"
    },
    "papermill": {
     "duration": 0.071819,
     "end_time": "2020-08-19T15:19:31.224386",
     "exception": false,
     "start_time": "2020-08-19T15:19:31.152567",
     "status": "completed"
    },
    "tags": []
   },
   "outputs": [],
   "source": [
    "data['trying']=pd.cut(data['Age'],bins=5)"
   ]
  },
  {
   "cell_type": "code",
   "execution_count": 19,
   "metadata": {
    "execution": {
     "iopub.execute_input": "2020-08-19T15:19:31.344637Z",
     "iopub.status.busy": "2020-08-19T15:19:31.342995Z",
     "iopub.status.idle": "2020-08-19T15:19:31.351175Z",
     "shell.execute_reply": "2020-08-19T15:19:31.350197Z"
    },
    "papermill": {
     "duration": 0.074625,
     "end_time": "2020-08-19T15:19:31.351376",
     "exception": false,
     "start_time": "2020-08-19T15:19:31.276751",
     "status": "completed"
    },
    "tags": []
   },
   "outputs": [
    {
     "data": {
      "text/html": [
       "<div>\n",
       "<style scoped>\n",
       "    .dataframe tbody tr th:only-of-type {\n",
       "        vertical-align: middle;\n",
       "    }\n",
       "\n",
       "    .dataframe tbody tr th {\n",
       "        vertical-align: top;\n",
       "    }\n",
       "\n",
       "    .dataframe thead th {\n",
       "        text-align: right;\n",
       "    }\n",
       "</style>\n",
       "<table border=\"1\" class=\"dataframe\">\n",
       "  <thead>\n",
       "    <tr style=\"text-align: right;\">\n",
       "      <th></th>\n",
       "      <th>Survived</th>\n",
       "    </tr>\n",
       "    <tr>\n",
       "      <th>trying</th>\n",
       "      <th></th>\n",
       "    </tr>\n",
       "  </thead>\n",
       "  <tbody>\n",
       "    <tr>\n",
       "      <th>(0.0902, 16.136]</th>\n",
       "      <td>0.548077</td>\n",
       "    </tr>\n",
       "    <tr>\n",
       "      <th>(16.136, 32.102]</th>\n",
       "      <td>0.392670</td>\n",
       "    </tr>\n",
       "    <tr>\n",
       "      <th>(32.102, 48.068]</th>\n",
       "      <td>0.320000</td>\n",
       "    </tr>\n",
       "    <tr>\n",
       "      <th>(48.068, 64.034]</th>\n",
       "      <td>0.434783</td>\n",
       "    </tr>\n",
       "    <tr>\n",
       "      <th>(64.034, 80.0]</th>\n",
       "      <td>0.090909</td>\n",
       "    </tr>\n",
       "  </tbody>\n",
       "</table>\n",
       "</div>"
      ],
      "text/plain": [
       "                  Survived\n",
       "trying                    \n",
       "(0.0902, 16.136]  0.548077\n",
       "(16.136, 32.102]  0.392670\n",
       "(32.102, 48.068]  0.320000\n",
       "(48.068, 64.034]  0.434783\n",
       "(64.034, 80.0]    0.090909"
      ]
     },
     "execution_count": 19,
     "metadata": {},
     "output_type": "execute_result"
    }
   ],
   "source": [
    "data.groupby('trying')['Survived'].mean().to_frame()"
   ]
  },
  {
   "cell_type": "code",
   "execution_count": 20,
   "metadata": {
    "execution": {
     "iopub.execute_input": "2020-08-19T15:19:31.503589Z",
     "iopub.status.busy": "2020-08-19T15:19:31.502213Z",
     "iopub.status.idle": "2020-08-19T15:19:31.520242Z",
     "shell.execute_reply": "2020-08-19T15:19:31.519355Z"
    },
    "papermill": {
     "duration": 0.102182,
     "end_time": "2020-08-19T15:19:31.520383",
     "exception": false,
     "start_time": "2020-08-19T15:19:31.418201",
     "status": "completed"
    },
    "tags": []
   },
   "outputs": [],
   "source": [
    "data['Mod_age']=0\n",
    "data.loc[data['Age']<=16,'Mod_age']=0\n",
    "data.loc[(data['Age']>16) & (data['Age']<=32),'Mod_age']=1\n",
    "data.loc[(data['Age']>32) & (data['Age']<=48),'Mod_age']=2\n",
    "data.loc[(data['Age']>48) & (data['Age']<=64),'Mod_age']=3\n",
    "data.loc[(data['Age']>64) & (data['Age']<=80),'Mod_age']=4\n"
   ]
  },
  {
   "cell_type": "code",
   "execution_count": 21,
   "metadata": {
    "execution": {
     "iopub.execute_input": "2020-08-19T15:19:31.637482Z",
     "iopub.status.busy": "2020-08-19T15:19:31.634805Z",
     "iopub.status.idle": "2020-08-19T15:19:31.821985Z",
     "shell.execute_reply": "2020-08-19T15:19:31.821163Z"
    },
    "papermill": {
     "duration": 0.24836,
     "end_time": "2020-08-19T15:19:31.822126",
     "exception": false,
     "start_time": "2020-08-19T15:19:31.573766",
     "status": "completed"
    },
    "tags": []
   },
   "outputs": [
    {
     "data": {
      "text/plain": [
       "<matplotlib.axes._subplots.AxesSubplot at 0x7f507dcf96d0>"
      ]
     },
     "execution_count": 21,
     "metadata": {},
     "output_type": "execute_result"
    },
    {
     "data": {
      "image/png": "[encoded data removed]",
      "text/plain": [
       "<Figure size 432x288 with 1 Axes>"
      ]
     },
     "metadata": {
      "needs_background": "light"
     },
     "output_type": "display_data"
    }
   ],
   "source": [
    "sns.countplot('Pclass',hue='Survived',data=data)"
   ]
  },
  {
   "cell_type": "code",
   "execution_count": 22,
   "metadata": {
    "execution": {
     "iopub.execute_input": "2020-08-19T15:19:31.941924Z",
     "iopub.status.busy": "2020-08-19T15:19:31.940999Z",
     "iopub.status.idle": "2020-08-19T15:19:32.636701Z",
     "shell.execute_reply": "2020-08-19T15:19:32.637342Z"
    },
    "papermill": {
     "duration": 0.760744,
     "end_time": "2020-08-19T15:19:32.637543",
     "exception": false,
     "start_time": "2020-08-19T15:19:31.876799",
     "status": "completed"
    },
    "tags": []
   },
   "outputs": [
    {
     "data": {
      "text/plain": [
       "<matplotlib.axes._subplots.AxesSubplot at 0x7f507dc739d0>"
      ]
     },
     "execution_count": 22,
     "metadata": {},
     "output_type": "execute_result"
    },
    {
     "data": {
      "image/png": "[encoded data removed]",
      "text/plain": [
       "<Figure size 576x432 with 2 Axes>"
      ]
     },
     "metadata": {
      "needs_background": "light"
     },
     "output_type": "display_data"
    }
   ],
   "source": [
    "plt.figure(figsize=(8,6))\n",
    "sns.heatmap(data.corr(),annot=True,linewidths=0.2)"
   ]
  },
  {
   "cell_type": "code",
   "execution_count": 23,
   "metadata": {
    "execution": {
     "iopub.execute_input": "2020-08-19T15:19:32.777218Z",
     "iopub.status.busy": "2020-08-19T15:19:32.776034Z",
     "iopub.status.idle": "2020-08-19T15:19:33.087637Z",
     "shell.execute_reply": "2020-08-19T15:19:33.086870Z"
    },
    "papermill": {
     "duration": 0.390744,
     "end_time": "2020-08-19T15:19:33.087768",
     "exception": false,
     "start_time": "2020-08-19T15:19:32.697024",
     "status": "completed"
    },
    "tags": []
   },
   "outputs": [
    {
     "data": {
      "text/plain": [
       "<matplotlib.axes._subplots.AxesSubplot at 0x7f507ba80310>"
      ]
     },
     "execution_count": 23,
     "metadata": {},
     "output_type": "execute_result"
    },
    {
     "data": {
      "image/png": "[encoded data removed]",
      "text/plain": [
       "<Figure size 576x432 with 2 Axes>"
      ]
     },
     "metadata": {
      "needs_background": "light"
     },
     "output_type": "display_data"
    }
   ],
   "source": [
    "f,ax=plt.subplots(1,2,figsize=(8,6))\n",
    "data.groupby('Pclass')['Fare'].mean().plot.bar(ax=ax[0])\n",
    "sns.countplot(x='Pclass',hue='Sex',data=data, ax=ax[1])"
   ]
  },
  {
   "cell_type": "code",
   "execution_count": 24,
   "metadata": {
    "execution": {
     "iopub.execute_input": "2020-08-19T15:19:33.226371Z",
     "iopub.status.busy": "2020-08-19T15:19:33.222928Z",
     "iopub.status.idle": "2020-08-19T15:19:33.434343Z",
     "shell.execute_reply": "2020-08-19T15:19:33.433558Z"
    },
    "papermill": {
     "duration": 0.288342,
     "end_time": "2020-08-19T15:19:33.434496",
     "exception": false,
     "start_time": "2020-08-19T15:19:33.146154",
     "status": "completed"
    },
    "tags": []
   },
   "outputs": [
    {
     "data": {
      "text/html": [
       "<style  type=\"text/css\" >\n",
       "    #T_62a01f12_e22f_11ea_af10_0242ac130202row0_col0 {\n",
       "            background-color:  #ffff66;\n",
       "            color:  #000000;\n",
       "        }    #T_62a01f12_e22f_11ea_af10_0242ac130202row0_col1 {\n",
       "            background-color:  #cee666;\n",
       "            color:  #000000;\n",
       "        }    #T_62a01f12_e22f_11ea_af10_0242ac130202row0_col2 {\n",
       "            background-color:  #f4fa66;\n",
       "            color:  #000000;\n",
       "        }    #T_62a01f12_e22f_11ea_af10_0242ac130202row1_col0 {\n",
       "            background-color:  #f6fa66;\n",
       "            color:  #000000;\n",
       "        }    #T_62a01f12_e22f_11ea_af10_0242ac130202row1_col1 {\n",
       "            background-color:  #ffff66;\n",
       "            color:  #000000;\n",
       "        }    #T_62a01f12_e22f_11ea_af10_0242ac130202row1_col2 {\n",
       "            background-color:  #ffff66;\n",
       "            color:  #000000;\n",
       "        }    #T_62a01f12_e22f_11ea_af10_0242ac130202row2_col0 {\n",
       "            background-color:  #60b066;\n",
       "            color:  #000000;\n",
       "        }    #T_62a01f12_e22f_11ea_af10_0242ac130202row2_col1 {\n",
       "            background-color:  #dfef66;\n",
       "            color:  #000000;\n",
       "        }    #T_62a01f12_e22f_11ea_af10_0242ac130202row2_col2 {\n",
       "            background-color:  #90c866;\n",
       "            color:  #000000;\n",
       "        }    #T_62a01f12_e22f_11ea_af10_0242ac130202row3_col0 {\n",
       "            background-color:  #008066;\n",
       "            color:  #f1f1f1;\n",
       "        }    #T_62a01f12_e22f_11ea_af10_0242ac130202row3_col1 {\n",
       "            background-color:  #008066;\n",
       "            color:  #f1f1f1;\n",
       "        }    #T_62a01f12_e22f_11ea_af10_0242ac130202row3_col2 {\n",
       "            background-color:  #008066;\n",
       "            color:  #f1f1f1;\n",
       "        }</style><table id=\"T_62a01f12_e22f_11ea_af10_0242ac130202\" ><thead>    <tr>        <th class=\"index_name level0\" >Survived</th>        <th class=\"col_heading level0 col0\" >0.0</th>        <th class=\"col_heading level0 col1\" >1.0</th>        <th class=\"col_heading level0 col2\" >All</th>    </tr>    <tr>        <th class=\"index_name level0\" >Pclass</th>        <th class=\"blank\" ></th>        <th class=\"blank\" ></th>        <th class=\"blank\" ></th>    </tr></thead><tbody>\n",
       "                <tr>\n",
       "                        <th id=\"T_62a01f12_e22f_11ea_af10_0242ac130202level0_row0\" class=\"row_heading level0 row0\" >1</th>\n",
       "                        <td id=\"T_62a01f12_e22f_11ea_af10_0242ac130202row0_col0\" class=\"data row0 col0\" >80</td>\n",
       "                        <td id=\"T_62a01f12_e22f_11ea_af10_0242ac130202row0_col1\" class=\"data row0 col1\" >136</td>\n",
       "                        <td id=\"T_62a01f12_e22f_11ea_af10_0242ac130202row0_col2\" class=\"data row0 col2\" >216</td>\n",
       "            </tr>\n",
       "            <tr>\n",
       "                        <th id=\"T_62a01f12_e22f_11ea_af10_0242ac130202level0_row1\" class=\"row_heading level0 row1\" >2</th>\n",
       "                        <td id=\"T_62a01f12_e22f_11ea_af10_0242ac130202row1_col0\" class=\"data row1 col0\" >97</td>\n",
       "                        <td id=\"T_62a01f12_e22f_11ea_af10_0242ac130202row1_col1\" class=\"data row1 col1\" >87</td>\n",
       "                        <td id=\"T_62a01f12_e22f_11ea_af10_0242ac130202row1_col2\" class=\"data row1 col2\" >184</td>\n",
       "            </tr>\n",
       "            <tr>\n",
       "                        <th id=\"T_62a01f12_e22f_11ea_af10_0242ac130202level0_row2\" class=\"row_heading level0 row2\" >3</th>\n",
       "                        <td id=\"T_62a01f12_e22f_11ea_af10_0242ac130202row2_col0\" class=\"data row2 col0\" >372</td>\n",
       "                        <td id=\"T_62a01f12_e22f_11ea_af10_0242ac130202row2_col1\" class=\"data row2 col1\" >119</td>\n",
       "                        <td id=\"T_62a01f12_e22f_11ea_af10_0242ac130202row2_col2\" class=\"data row2 col2\" >491</td>\n",
       "            </tr>\n",
       "            <tr>\n",
       "                        <th id=\"T_62a01f12_e22f_11ea_af10_0242ac130202level0_row3\" class=\"row_heading level0 row3\" >All</th>\n",
       "                        <td id=\"T_62a01f12_e22f_11ea_af10_0242ac130202row3_col0\" class=\"data row3 col0\" >549</td>\n",
       "                        <td id=\"T_62a01f12_e22f_11ea_af10_0242ac130202row3_col1\" class=\"data row3 col1\" >342</td>\n",
       "                        <td id=\"T_62a01f12_e22f_11ea_af10_0242ac130202row3_col2\" class=\"data row3 col2\" >891</td>\n",
       "            </tr>\n",
       "    </tbody></table>"
      ],
      "text/plain": [
       "<pandas.io.formats.style.Styler at 0x7f507ba67210>"
      ]
     },
     "execution_count": 24,
     "metadata": {},
     "output_type": "execute_result"
    }
   ],
   "source": [
    "pd.crosstab(data.Pclass,data.Survived, margins=True).style.background_gradient(cmap='summer_r')"
   ]
  },
  {
   "cell_type": "code",
   "execution_count": 25,
   "metadata": {
    "execution": {
     "iopub.execute_input": "2020-08-19T15:19:33.568712Z",
     "iopub.status.busy": "2020-08-19T15:19:33.563196Z",
     "iopub.status.idle": "2020-08-19T15:19:33.573961Z",
     "shell.execute_reply": "2020-08-19T15:19:33.573294Z"
    },
    "papermill": {
     "duration": 0.080458,
     "end_time": "2020-08-19T15:19:33.574095",
     "exception": false,
     "start_time": "2020-08-19T15:19:33.493637",
     "status": "completed"
    },
    "tags": []
   },
   "outputs": [
    {
     "data": {
      "text/plain": [
       "count    1308.000000\n",
       "mean       33.295479\n",
       "std        51.758668\n",
       "min         0.000000\n",
       "25%         7.895800\n",
       "50%        14.454200\n",
       "75%        31.275000\n",
       "max       512.329200\n",
       "Name: Fare, dtype: float64"
      ]
     },
     "execution_count": 25,
     "metadata": {},
     "output_type": "execute_result"
    }
   ],
   "source": [
    "data['Fare'].describe(include='all')"
   ]
  },
  {
   "cell_type": "code",
   "execution_count": 26,
   "metadata": {
    "execution": {
     "iopub.execute_input": "2020-08-19T15:19:33.705700Z",
     "iopub.status.busy": "2020-08-19T15:19:33.704624Z",
     "iopub.status.idle": "2020-08-19T15:19:33.709734Z",
     "shell.execute_reply": "2020-08-19T15:19:33.708934Z"
    },
    "papermill": {
     "duration": 0.075974,
     "end_time": "2020-08-19T15:19:33.709887",
     "exception": false,
     "start_time": "2020-08-19T15:19:33.633913",
     "status": "completed"
    },
    "tags": []
   },
   "outputs": [],
   "source": [
    "data['Fare_Range']=pd.qcut(data['Fare'],4)"
   ]
  },
  {
   "cell_type": "code",
   "execution_count": 27,
   "metadata": {
    "execution": {
     "iopub.execute_input": "2020-08-19T15:19:33.847193Z",
     "iopub.status.busy": "2020-08-19T15:19:33.845987Z",
     "iopub.status.idle": "2020-08-19T15:19:33.851060Z",
     "shell.execute_reply": "2020-08-19T15:19:33.850308Z"
    },
    "papermill": {
     "duration": 0.081338,
     "end_time": "2020-08-19T15:19:33.851198",
     "exception": false,
     "start_time": "2020-08-19T15:19:33.769860",
     "status": "completed"
    },
    "tags": []
   },
   "outputs": [
    {
     "data": {
      "text/html": [
       "<div>\n",
       "<style scoped>\n",
       "    .dataframe tbody tr th:only-of-type {\n",
       "        vertical-align: middle;\n",
       "    }\n",
       "\n",
       "    .dataframe tbody tr th {\n",
       "        vertical-align: top;\n",
       "    }\n",
       "\n",
       "    .dataframe thead th {\n",
       "        text-align: right;\n",
       "    }\n",
       "</style>\n",
       "<table border=\"1\" class=\"dataframe\">\n",
       "  <thead>\n",
       "    <tr style=\"text-align: right;\">\n",
       "      <th></th>\n",
       "      <th>Survived</th>\n",
       "    </tr>\n",
       "    <tr>\n",
       "      <th>Fare_Range</th>\n",
       "      <th></th>\n",
       "    </tr>\n",
       "  </thead>\n",
       "  <tbody>\n",
       "    <tr>\n",
       "      <th>(-0.001, 7.896]</th>\n",
       "      <td>0.197309</td>\n",
       "    </tr>\n",
       "    <tr>\n",
       "      <th>(7.896, 14.454]</th>\n",
       "      <td>0.303571</td>\n",
       "    </tr>\n",
       "    <tr>\n",
       "      <th>(14.454, 31.275]</th>\n",
       "      <td>0.441048</td>\n",
       "    </tr>\n",
       "    <tr>\n",
       "      <th>(31.275, 512.329]</th>\n",
       "      <td>0.600000</td>\n",
       "    </tr>\n",
       "  </tbody>\n",
       "</table>\n",
       "</div>"
      ],
      "text/plain": [
       "                   Survived\n",
       "Fare_Range                 \n",
       "(-0.001, 7.896]    0.197309\n",
       "(7.896, 14.454]    0.303571\n",
       "(14.454, 31.275]   0.441048\n",
       "(31.275, 512.329]  0.600000"
      ]
     },
     "execution_count": 27,
     "metadata": {},
     "output_type": "execute_result"
    }
   ],
   "source": [
    "data.groupby('Fare_Range')['Survived'].mean().to_frame()"
   ]
  },
  {
   "cell_type": "code",
   "execution_count": 28,
   "metadata": {
    "execution": {
     "iopub.execute_input": "2020-08-19T15:19:33.993329Z",
     "iopub.status.busy": "2020-08-19T15:19:33.983684Z",
     "iopub.status.idle": "2020-08-19T15:19:33.997004Z",
     "shell.execute_reply": "2020-08-19T15:19:33.996313Z"
    },
    "papermill": {
     "duration": 0.085421,
     "end_time": "2020-08-19T15:19:33.997146",
     "exception": false,
     "start_time": "2020-08-19T15:19:33.911725",
     "status": "completed"
    },
    "tags": []
   },
   "outputs": [],
   "source": [
    "data['Fare_percent']=0\n",
    "data.loc[data['Fare']<=8,'Fare_percent']=0\n",
    "data.loc[(data['Fare']>8) & (data['Fare']<=14),'Fare_percent']=1\n",
    "data.loc[(data['Fare']>14) & (data['Fare']<=31),'Fare_percent']=2\n",
    "data.loc[(data['Fare']>31) & (data['Fare']<=513),'Fare_percent']=3"
   ]
  },
  {
   "cell_type": "code",
   "execution_count": 29,
   "metadata": {
    "execution": {
     "iopub.execute_input": "2020-08-19T15:19:34.130524Z",
     "iopub.status.busy": "2020-08-19T15:19:34.129521Z",
     "iopub.status.idle": "2020-08-19T15:19:34.205827Z",
     "shell.execute_reply": "2020-08-19T15:19:34.204930Z"
    },
    "papermill": {
     "duration": 0.147713,
     "end_time": "2020-08-19T15:19:34.205972",
     "exception": false,
     "start_time": "2020-08-19T15:19:34.058259",
     "status": "completed"
    },
    "tags": []
   },
   "outputs": [
    {
     "data": {
      "text/html": [
       "<style  type=\"text/css\" >\n",
       "    #T_63161e9c_e22f_11ea_af10_0242ac130202row0_col0 {\n",
       "            background-color:  #47a366;\n",
       "            color:  #000000;\n",
       "        }    #T_63161e9c_e22f_11ea_af10_0242ac130202row0_col1 {\n",
       "            background-color:  #62b066;\n",
       "            color:  #000000;\n",
       "        }    #T_63161e9c_e22f_11ea_af10_0242ac130202row0_col2 {\n",
       "            background-color:  #51a866;\n",
       "            color:  #000000;\n",
       "        }    #T_63161e9c_e22f_11ea_af10_0242ac130202row1_col0 {\n",
       "            background-color:  #d4ea66;\n",
       "            color:  #000000;\n",
       "        }    #T_63161e9c_e22f_11ea_af10_0242ac130202row1_col1 {\n",
       "            background-color:  #acd666;\n",
       "            color:  #000000;\n",
       "        }    #T_63161e9c_e22f_11ea_af10_0242ac130202row1_col2 {\n",
       "            background-color:  #c5e266;\n",
       "            color:  #000000;\n",
       "        }    #T_63161e9c_e22f_11ea_af10_0242ac130202row2_col0 {\n",
       "            background-color:  #fbfd66;\n",
       "            color:  #000000;\n",
       "        }    #T_63161e9c_e22f_11ea_af10_0242ac130202row2_col1 {\n",
       "            background-color:  #f6fa66;\n",
       "            color:  #000000;\n",
       "        }    #T_63161e9c_e22f_11ea_af10_0242ac130202row2_col2 {\n",
       "            background-color:  #f9fc66;\n",
       "            color:  #000000;\n",
       "        }    #T_63161e9c_e22f_11ea_af10_0242ac130202row3_col0 {\n",
       "            background-color:  #fcfe66;\n",
       "            color:  #000000;\n",
       "        }    #T_63161e9c_e22f_11ea_af10_0242ac130202row3_col1 {\n",
       "            background-color:  #fdfe66;\n",
       "            color:  #000000;\n",
       "        }    #T_63161e9c_e22f_11ea_af10_0242ac130202row3_col2 {\n",
       "            background-color:  #fcfe66;\n",
       "            color:  #000000;\n",
       "        }    #T_63161e9c_e22f_11ea_af10_0242ac130202row4_col0 {\n",
       "            background-color:  #fbfd66;\n",
       "            color:  #000000;\n",
       "        }    #T_63161e9c_e22f_11ea_af10_0242ac130202row4_col1 {\n",
       "            background-color:  #fdfe66;\n",
       "            color:  #000000;\n",
       "        }    #T_63161e9c_e22f_11ea_af10_0242ac130202row4_col2 {\n",
       "            background-color:  #fcfe66;\n",
       "            color:  #000000;\n",
       "        }    #T_63161e9c_e22f_11ea_af10_0242ac130202row5_col0 {\n",
       "            background-color:  #ffff66;\n",
       "            color:  #000000;\n",
       "        }    #T_63161e9c_e22f_11ea_af10_0242ac130202row5_col1 {\n",
       "            background-color:  #ffff66;\n",
       "            color:  #000000;\n",
       "        }    #T_63161e9c_e22f_11ea_af10_0242ac130202row5_col2 {\n",
       "            background-color:  #ffff66;\n",
       "            color:  #000000;\n",
       "        }    #T_63161e9c_e22f_11ea_af10_0242ac130202row6_col0 {\n",
       "            background-color:  #ffff66;\n",
       "            color:  #000000;\n",
       "        }    #T_63161e9c_e22f_11ea_af10_0242ac130202row6_col1 {\n",
       "            background-color:  #ffff66;\n",
       "            color:  #000000;\n",
       "        }    #T_63161e9c_e22f_11ea_af10_0242ac130202row6_col2 {\n",
       "            background-color:  #ffff66;\n",
       "            color:  #000000;\n",
       "        }    #T_63161e9c_e22f_11ea_af10_0242ac130202row7_col0 {\n",
       "            background-color:  #008066;\n",
       "            color:  #f1f1f1;\n",
       "        }    #T_63161e9c_e22f_11ea_af10_0242ac130202row7_col1 {\n",
       "            background-color:  #008066;\n",
       "            color:  #f1f1f1;\n",
       "        }    #T_63161e9c_e22f_11ea_af10_0242ac130202row7_col2 {\n",
       "            background-color:  #008066;\n",
       "            color:  #f1f1f1;\n",
       "        }</style><table id=\"T_63161e9c_e22f_11ea_af10_0242ac130202\" ><thead>    <tr>        <th class=\"index_name level0\" >Survived</th>        <th class=\"col_heading level0 col0\" >0.0</th>        <th class=\"col_heading level0 col1\" >1.0</th>        <th class=\"col_heading level0 col2\" >All</th>    </tr>    <tr>        <th class=\"index_name level0\" >SibSp</th>        <th class=\"blank\" ></th>        <th class=\"blank\" ></th>        <th class=\"blank\" ></th>    </tr></thead><tbody>\n",
       "                <tr>\n",
       "                        <th id=\"T_63161e9c_e22f_11ea_af10_0242ac130202level0_row0\" class=\"row_heading level0 row0\" >0</th>\n",
       "                        <td id=\"T_63161e9c_e22f_11ea_af10_0242ac130202row0_col0\" class=\"data row0 col0\" >398</td>\n",
       "                        <td id=\"T_63161e9c_e22f_11ea_af10_0242ac130202row0_col1\" class=\"data row0 col1\" >210</td>\n",
       "                        <td id=\"T_63161e9c_e22f_11ea_af10_0242ac130202row0_col2\" class=\"data row0 col2\" >608</td>\n",
       "            </tr>\n",
       "            <tr>\n",
       "                        <th id=\"T_63161e9c_e22f_11ea_af10_0242ac130202level0_row1\" class=\"row_heading level0 row1\" >1</th>\n",
       "                        <td id=\"T_63161e9c_e22f_11ea_af10_0242ac130202row1_col0\" class=\"data row1 col0\" >97</td>\n",
       "                        <td id=\"T_63161e9c_e22f_11ea_af10_0242ac130202row1_col1\" class=\"data row1 col1\" >112</td>\n",
       "                        <td id=\"T_63161e9c_e22f_11ea_af10_0242ac130202row1_col2\" class=\"data row1 col2\" >209</td>\n",
       "            </tr>\n",
       "            <tr>\n",
       "                        <th id=\"T_63161e9c_e22f_11ea_af10_0242ac130202level0_row2\" class=\"row_heading level0 row2\" >2</th>\n",
       "                        <td id=\"T_63161e9c_e22f_11ea_af10_0242ac130202row2_col0\" class=\"data row2 col0\" >15</td>\n",
       "                        <td id=\"T_63161e9c_e22f_11ea_af10_0242ac130202row2_col1\" class=\"data row2 col1\" >13</td>\n",
       "                        <td id=\"T_63161e9c_e22f_11ea_af10_0242ac130202row2_col2\" class=\"data row2 col2\" >28</td>\n",
       "            </tr>\n",
       "            <tr>\n",
       "                        <th id=\"T_63161e9c_e22f_11ea_af10_0242ac130202level0_row3\" class=\"row_heading level0 row3\" >3</th>\n",
       "                        <td id=\"T_63161e9c_e22f_11ea_af10_0242ac130202row3_col0\" class=\"data row3 col0\" >12</td>\n",
       "                        <td id=\"T_63161e9c_e22f_11ea_af10_0242ac130202row3_col1\" class=\"data row3 col1\" >4</td>\n",
       "                        <td id=\"T_63161e9c_e22f_11ea_af10_0242ac130202row3_col2\" class=\"data row3 col2\" >16</td>\n",
       "            </tr>\n",
       "            <tr>\n",
       "                        <th id=\"T_63161e9c_e22f_11ea_af10_0242ac130202level0_row4\" class=\"row_heading level0 row4\" >4</th>\n",
       "                        <td id=\"T_63161e9c_e22f_11ea_af10_0242ac130202row4_col0\" class=\"data row4 col0\" >15</td>\n",
       "                        <td id=\"T_63161e9c_e22f_11ea_af10_0242ac130202row4_col1\" class=\"data row4 col1\" >3</td>\n",
       "                        <td id=\"T_63161e9c_e22f_11ea_af10_0242ac130202row4_col2\" class=\"data row4 col2\" >18</td>\n",
       "            </tr>\n",
       "            <tr>\n",
       "                        <th id=\"T_63161e9c_e22f_11ea_af10_0242ac130202level0_row5\" class=\"row_heading level0 row5\" >5</th>\n",
       "                        <td id=\"T_63161e9c_e22f_11ea_af10_0242ac130202row5_col0\" class=\"data row5 col0\" >5</td>\n",
       "                        <td id=\"T_63161e9c_e22f_11ea_af10_0242ac130202row5_col1\" class=\"data row5 col1\" >0</td>\n",
       "                        <td id=\"T_63161e9c_e22f_11ea_af10_0242ac130202row5_col2\" class=\"data row5 col2\" >5</td>\n",
       "            </tr>\n",
       "            <tr>\n",
       "                        <th id=\"T_63161e9c_e22f_11ea_af10_0242ac130202level0_row6\" class=\"row_heading level0 row6\" >8</th>\n",
       "                        <td id=\"T_63161e9c_e22f_11ea_af10_0242ac130202row6_col0\" class=\"data row6 col0\" >7</td>\n",
       "                        <td id=\"T_63161e9c_e22f_11ea_af10_0242ac130202row6_col1\" class=\"data row6 col1\" >0</td>\n",
       "                        <td id=\"T_63161e9c_e22f_11ea_af10_0242ac130202row6_col2\" class=\"data row6 col2\" >7</td>\n",
       "            </tr>\n",
       "            <tr>\n",
       "                        <th id=\"T_63161e9c_e22f_11ea_af10_0242ac130202level0_row7\" class=\"row_heading level0 row7\" >All</th>\n",
       "                        <td id=\"T_63161e9c_e22f_11ea_af10_0242ac130202row7_col0\" class=\"data row7 col0\" >549</td>\n",
       "                        <td id=\"T_63161e9c_e22f_11ea_af10_0242ac130202row7_col1\" class=\"data row7 col1\" >342</td>\n",
       "                        <td id=\"T_63161e9c_e22f_11ea_af10_0242ac130202row7_col2\" class=\"data row7 col2\" >891</td>\n",
       "            </tr>\n",
       "    </tbody></table>"
      ],
      "text/plain": [
       "<pandas.io.formats.style.Styler at 0x7f507dc98710>"
      ]
     },
     "execution_count": 29,
     "metadata": {},
     "output_type": "execute_result"
    }
   ],
   "source": [
    "pd.crosstab(data.SibSp,data.Survived, margins=True).style.background_gradient(cmap='summer_r')"
   ]
  },
  {
   "cell_type": "code",
   "execution_count": 30,
   "metadata": {
    "execution": {
     "iopub.execute_input": "2020-08-19T15:19:34.341657Z",
     "iopub.status.busy": "2020-08-19T15:19:34.340404Z",
     "iopub.status.idle": "2020-08-19T15:19:34.421213Z",
     "shell.execute_reply": "2020-08-19T15:19:34.420583Z"
    },
    "papermill": {
     "duration": 0.153668,
     "end_time": "2020-08-19T15:19:34.421401",
     "exception": false,
     "start_time": "2020-08-19T15:19:34.267733",
     "status": "completed"
    },
    "tags": []
   },
   "outputs": [
    {
     "data": {
      "text/html": [
       "<style  type=\"text/css\" >\n",
       "    #T_6336e1fe_e22f_11ea_af10_0242ac130202row0_col0 {\n",
       "            background-color:  #52a866;\n",
       "            color:  #000000;\n",
       "        }    #T_6336e1fe_e22f_11ea_af10_0242ac130202row0_col1 {\n",
       "            background-color:  #85c266;\n",
       "            color:  #000000;\n",
       "        }    #T_6336e1fe_e22f_11ea_af10_0242ac130202row0_col2 {\n",
       "            background-color:  #66b266;\n",
       "            color:  #000000;\n",
       "        }    #T_6336e1fe_e22f_11ea_af10_0242ac130202row1_col0 {\n",
       "            background-color:  #e0f066;\n",
       "            color:  #000000;\n",
       "        }    #T_6336e1fe_e22f_11ea_af10_0242ac130202row1_col1 {\n",
       "            background-color:  #bdde66;\n",
       "            color:  #000000;\n",
       "        }    #T_6336e1fe_e22f_11ea_af10_0242ac130202row1_col2 {\n",
       "            background-color:  #d3e966;\n",
       "            color:  #000000;\n",
       "        }    #T_6336e1fe_e22f_11ea_af10_0242ac130202row2_col0 {\n",
       "            background-color:  #eef666;\n",
       "            color:  #000000;\n",
       "        }    #T_6336e1fe_e22f_11ea_af10_0242ac130202row2_col1 {\n",
       "            background-color:  #d3e966;\n",
       "            color:  #000000;\n",
       "        }    #T_6336e1fe_e22f_11ea_af10_0242ac130202row2_col2 {\n",
       "            background-color:  #e4f266;\n",
       "            color:  #000000;\n",
       "        }    #T_6336e1fe_e22f_11ea_af10_0242ac130202row3_col0 {\n",
       "            background-color:  #ffff66;\n",
       "            color:  #000000;\n",
       "        }    #T_6336e1fe_e22f_11ea_af10_0242ac130202row3_col1 {\n",
       "            background-color:  #f0f866;\n",
       "            color:  #000000;\n",
       "        }    #T_6336e1fe_e22f_11ea_af10_0242ac130202row3_col2 {\n",
       "            background-color:  #f9fc66;\n",
       "            color:  #000000;\n",
       "        }    #T_6336e1fe_e22f_11ea_af10_0242ac130202row4_col0 {\n",
       "            background-color:  #fdfe66;\n",
       "            color:  #000000;\n",
       "        }    #T_6336e1fe_e22f_11ea_af10_0242ac130202row4_col1 {\n",
       "            background-color:  #fdfe66;\n",
       "            color:  #000000;\n",
       "        }    #T_6336e1fe_e22f_11ea_af10_0242ac130202row4_col2 {\n",
       "            background-color:  #fdfe66;\n",
       "            color:  #000000;\n",
       "        }    #T_6336e1fe_e22f_11ea_af10_0242ac130202row5_col0 {\n",
       "            background-color:  #f9fc66;\n",
       "            color:  #000000;\n",
       "        }    #T_6336e1fe_e22f_11ea_af10_0242ac130202row5_col1 {\n",
       "            background-color:  #fdfe66;\n",
       "            color:  #000000;\n",
       "        }    #T_6336e1fe_e22f_11ea_af10_0242ac130202row5_col2 {\n",
       "            background-color:  #fbfd66;\n",
       "            color:  #000000;\n",
       "        }    #T_6336e1fe_e22f_11ea_af10_0242ac130202row6_col0 {\n",
       "            background-color:  #ffff66;\n",
       "            color:  #000000;\n",
       "        }    #T_6336e1fe_e22f_11ea_af10_0242ac130202row6_col1 {\n",
       "            background-color:  #fdfe66;\n",
       "            color:  #000000;\n",
       "        }    #T_6336e1fe_e22f_11ea_af10_0242ac130202row6_col2 {\n",
       "            background-color:  #fefe66;\n",
       "            color:  #000000;\n",
       "        }    #T_6336e1fe_e22f_11ea_af10_0242ac130202row7_col0 {\n",
       "            background-color:  #ffff66;\n",
       "            color:  #000000;\n",
       "        }    #T_6336e1fe_e22f_11ea_af10_0242ac130202row7_col1 {\n",
       "            background-color:  #ffff66;\n",
       "            color:  #000000;\n",
       "        }    #T_6336e1fe_e22f_11ea_af10_0242ac130202row7_col2 {\n",
       "            background-color:  #ffff66;\n",
       "            color:  #000000;\n",
       "        }    #T_6336e1fe_e22f_11ea_af10_0242ac130202row8_col0 {\n",
       "            background-color:  #ffff66;\n",
       "            color:  #000000;\n",
       "        }    #T_6336e1fe_e22f_11ea_af10_0242ac130202row8_col1 {\n",
       "            background-color:  #ffff66;\n",
       "            color:  #000000;\n",
       "        }    #T_6336e1fe_e22f_11ea_af10_0242ac130202row8_col2 {\n",
       "            background-color:  #ffff66;\n",
       "            color:  #000000;\n",
       "        }    #T_6336e1fe_e22f_11ea_af10_0242ac130202row9_col0 {\n",
       "            background-color:  #008066;\n",
       "            color:  #f1f1f1;\n",
       "        }    #T_6336e1fe_e22f_11ea_af10_0242ac130202row9_col1 {\n",
       "            background-color:  #008066;\n",
       "            color:  #f1f1f1;\n",
       "        }    #T_6336e1fe_e22f_11ea_af10_0242ac130202row9_col2 {\n",
       "            background-color:  #008066;\n",
       "            color:  #f1f1f1;\n",
       "        }</style><table id=\"T_6336e1fe_e22f_11ea_af10_0242ac130202\" ><thead>    <tr>        <th class=\"index_name level0\" >Survived</th>        <th class=\"col_heading level0 col0\" >0.0</th>        <th class=\"col_heading level0 col1\" >1.0</th>        <th class=\"col_heading level0 col2\" >All</th>    </tr>    <tr>        <th class=\"index_name level0\" >Mod_sibsp</th>        <th class=\"blank\" ></th>        <th class=\"blank\" ></th>        <th class=\"blank\" ></th>    </tr></thead><tbody>\n",
       "                <tr>\n",
       "                        <th id=\"T_6336e1fe_e22f_11ea_af10_0242ac130202level0_row0\" class=\"row_heading level0 row0\" >0</th>\n",
       "                        <td id=\"T_6336e1fe_e22f_11ea_af10_0242ac130202row0_col0\" class=\"data row0 col0\" >374</td>\n",
       "                        <td id=\"T_6336e1fe_e22f_11ea_af10_0242ac130202row0_col1\" class=\"data row0 col1\" >163</td>\n",
       "                        <td id=\"T_6336e1fe_e22f_11ea_af10_0242ac130202row0_col2\" class=\"data row0 col2\" >537</td>\n",
       "            </tr>\n",
       "            <tr>\n",
       "                        <th id=\"T_6336e1fe_e22f_11ea_af10_0242ac130202level0_row1\" class=\"row_heading level0 row1\" >1</th>\n",
       "                        <td id=\"T_6336e1fe_e22f_11ea_af10_0242ac130202row1_col0\" class=\"data row1 col0\" >72</td>\n",
       "                        <td id=\"T_6336e1fe_e22f_11ea_af10_0242ac130202row1_col1\" class=\"data row1 col1\" >89</td>\n",
       "                        <td id=\"T_6336e1fe_e22f_11ea_af10_0242ac130202row1_col2\" class=\"data row1 col2\" >161</td>\n",
       "            </tr>\n",
       "            <tr>\n",
       "                        <th id=\"T_6336e1fe_e22f_11ea_af10_0242ac130202level0_row2\" class=\"row_heading level0 row2\" >2</th>\n",
       "                        <td id=\"T_6336e1fe_e22f_11ea_af10_0242ac130202row2_col0\" class=\"data row2 col0\" >43</td>\n",
       "                        <td id=\"T_6336e1fe_e22f_11ea_af10_0242ac130202row2_col1\" class=\"data row2 col1\" >59</td>\n",
       "                        <td id=\"T_6336e1fe_e22f_11ea_af10_0242ac130202row2_col2\" class=\"data row2 col2\" >102</td>\n",
       "            </tr>\n",
       "            <tr>\n",
       "                        <th id=\"T_6336e1fe_e22f_11ea_af10_0242ac130202level0_row3\" class=\"row_heading level0 row3\" >3</th>\n",
       "                        <td id=\"T_6336e1fe_e22f_11ea_af10_0242ac130202row3_col0\" class=\"data row3 col0\" >8</td>\n",
       "                        <td id=\"T_6336e1fe_e22f_11ea_af10_0242ac130202row3_col1\" class=\"data row3 col1\" >21</td>\n",
       "                        <td id=\"T_6336e1fe_e22f_11ea_af10_0242ac130202row3_col2\" class=\"data row3 col2\" >29</td>\n",
       "            </tr>\n",
       "            <tr>\n",
       "                        <th id=\"T_6336e1fe_e22f_11ea_af10_0242ac130202level0_row4\" class=\"row_heading level0 row4\" >4</th>\n",
       "                        <td id=\"T_6336e1fe_e22f_11ea_af10_0242ac130202row4_col0\" class=\"data row4 col0\" >12</td>\n",
       "                        <td id=\"T_6336e1fe_e22f_11ea_af10_0242ac130202row4_col1\" class=\"data row4 col1\" >3</td>\n",
       "                        <td id=\"T_6336e1fe_e22f_11ea_af10_0242ac130202row4_col2\" class=\"data row4 col2\" >15</td>\n",
       "            </tr>\n",
       "            <tr>\n",
       "                        <th id=\"T_6336e1fe_e22f_11ea_af10_0242ac130202level0_row5\" class=\"row_heading level0 row5\" >5</th>\n",
       "                        <td id=\"T_6336e1fe_e22f_11ea_af10_0242ac130202row5_col0\" class=\"data row5 col0\" >19</td>\n",
       "                        <td id=\"T_6336e1fe_e22f_11ea_af10_0242ac130202row5_col1\" class=\"data row5 col1\" >3</td>\n",
       "                        <td id=\"T_6336e1fe_e22f_11ea_af10_0242ac130202row5_col2\" class=\"data row5 col2\" >22</td>\n",
       "            </tr>\n",
       "            <tr>\n",
       "                        <th id=\"T_6336e1fe_e22f_11ea_af10_0242ac130202level0_row6\" class=\"row_heading level0 row6\" >6</th>\n",
       "                        <td id=\"T_6336e1fe_e22f_11ea_af10_0242ac130202row6_col0\" class=\"data row6 col0\" >8</td>\n",
       "                        <td id=\"T_6336e1fe_e22f_11ea_af10_0242ac130202row6_col1\" class=\"data row6 col1\" >4</td>\n",
       "                        <td id=\"T_6336e1fe_e22f_11ea_af10_0242ac130202row6_col2\" class=\"data row6 col2\" >12</td>\n",
       "            </tr>\n",
       "            <tr>\n",
       "                        <th id=\"T_6336e1fe_e22f_11ea_af10_0242ac130202level0_row7\" class=\"row_heading level0 row7\" >7</th>\n",
       "                        <td id=\"T_6336e1fe_e22f_11ea_af10_0242ac130202row7_col0\" class=\"data row7 col0\" >6</td>\n",
       "                        <td id=\"T_6336e1fe_e22f_11ea_af10_0242ac130202row7_col1\" class=\"data row7 col1\" >0</td>\n",
       "                        <td id=\"T_6336e1fe_e22f_11ea_af10_0242ac130202row7_col2\" class=\"data row7 col2\" >6</td>\n",
       "            </tr>\n",
       "            <tr>\n",
       "                        <th id=\"T_6336e1fe_e22f_11ea_af10_0242ac130202level0_row8\" class=\"row_heading level0 row8\" >10</th>\n",
       "                        <td id=\"T_6336e1fe_e22f_11ea_af10_0242ac130202row8_col0\" class=\"data row8 col0\" >7</td>\n",
       "                        <td id=\"T_6336e1fe_e22f_11ea_af10_0242ac130202row8_col1\" class=\"data row8 col1\" >0</td>\n",
       "                        <td id=\"T_6336e1fe_e22f_11ea_af10_0242ac130202row8_col2\" class=\"data row8 col2\" >7</td>\n",
       "            </tr>\n",
       "            <tr>\n",
       "                        <th id=\"T_6336e1fe_e22f_11ea_af10_0242ac130202level0_row9\" class=\"row_heading level0 row9\" >All</th>\n",
       "                        <td id=\"T_6336e1fe_e22f_11ea_af10_0242ac130202row9_col0\" class=\"data row9 col0\" >549</td>\n",
       "                        <td id=\"T_6336e1fe_e22f_11ea_af10_0242ac130202row9_col1\" class=\"data row9 col1\" >342</td>\n",
       "                        <td id=\"T_6336e1fe_e22f_11ea_af10_0242ac130202row9_col2\" class=\"data row9 col2\" >891</td>\n",
       "            </tr>\n",
       "    </tbody></table>"
      ],
      "text/plain": [
       "<pandas.io.formats.style.Styler at 0x7f507b9627d0>"
      ]
     },
     "execution_count": 30,
     "metadata": {},
     "output_type": "execute_result"
    }
   ],
   "source": [
    "data['Mod_sibsp']=data['SibSp']+data['Parch']\n",
    "pd.crosstab(data.Mod_sibsp,data.Survived, margins=True).style.background_gradient(cmap='summer_r')"
   ]
  },
  {
   "cell_type": "code",
   "execution_count": 31,
   "metadata": {
    "execution": {
     "iopub.execute_input": "2020-08-19T15:19:34.576663Z",
     "iopub.status.busy": "2020-08-19T15:19:34.552953Z",
     "iopub.status.idle": "2020-08-19T15:19:34.582078Z",
     "shell.execute_reply": "2020-08-19T15:19:34.581289Z"
    },
    "papermill": {
     "duration": 0.098358,
     "end_time": "2020-08-19T15:19:34.582221",
     "exception": false,
     "start_time": "2020-08-19T15:19:34.483863",
     "status": "completed"
    },
    "tags": []
   },
   "outputs": [
    {
     "data": {
      "text/html": [
       "<div>\n",
       "<style scoped>\n",
       "    .dataframe tbody tr th:only-of-type {\n",
       "        vertical-align: middle;\n",
       "    }\n",
       "\n",
       "    .dataframe tbody tr th {\n",
       "        vertical-align: top;\n",
       "    }\n",
       "\n",
       "    .dataframe thead th {\n",
       "        text-align: right;\n",
       "    }\n",
       "</style>\n",
       "<table border=\"1\" class=\"dataframe\">\n",
       "  <thead>\n",
       "    <tr style=\"text-align: right;\">\n",
       "      <th></th>\n",
       "      <th>PassengerId</th>\n",
       "      <th>Survived</th>\n",
       "      <th>Pclass</th>\n",
       "      <th>Name</th>\n",
       "      <th>Sex</th>\n",
       "      <th>Age</th>\n",
       "      <th>SibSp</th>\n",
       "      <th>Parch</th>\n",
       "      <th>Ticket</th>\n",
       "      <th>Fare</th>\n",
       "      <th>Cabin</th>\n",
       "      <th>Embarked</th>\n",
       "      <th>initial</th>\n",
       "      <th>trying</th>\n",
       "      <th>Mod_age</th>\n",
       "      <th>Fare_Range</th>\n",
       "      <th>Fare_percent</th>\n",
       "      <th>Mod_sibsp</th>\n",
       "    </tr>\n",
       "  </thead>\n",
       "  <tbody>\n",
       "    <tr>\n",
       "      <th>0</th>\n",
       "      <td>1</td>\n",
       "      <td>0.0</td>\n",
       "      <td>3</td>\n",
       "      <td>Braund, Mr. Owen Harris</td>\n",
       "      <td>male</td>\n",
       "      <td>22.0</td>\n",
       "      <td>1</td>\n",
       "      <td>0</td>\n",
       "      <td>A/5 21171</td>\n",
       "      <td>7.2500</td>\n",
       "      <td>NaN</td>\n",
       "      <td>S</td>\n",
       "      <td>0</td>\n",
       "      <td>(16.136, 32.102]</td>\n",
       "      <td>1</td>\n",
       "      <td>(-0.001, 7.896]</td>\n",
       "      <td>0</td>\n",
       "      <td>1</td>\n",
       "    </tr>\n",
       "    <tr>\n",
       "      <th>1</th>\n",
       "      <td>2</td>\n",
       "      <td>1.0</td>\n",
       "      <td>1</td>\n",
       "      <td>Cumings, Mrs. John Bradley (Florence Briggs Th...</td>\n",
       "      <td>female</td>\n",
       "      <td>38.0</td>\n",
       "      <td>1</td>\n",
       "      <td>0</td>\n",
       "      <td>PC 17599</td>\n",
       "      <td>71.2833</td>\n",
       "      <td>C85</td>\n",
       "      <td>C</td>\n",
       "      <td>1</td>\n",
       "      <td>(32.102, 48.068]</td>\n",
       "      <td>2</td>\n",
       "      <td>(31.275, 512.329]</td>\n",
       "      <td>3</td>\n",
       "      <td>1</td>\n",
       "    </tr>\n",
       "    <tr>\n",
       "      <th>2</th>\n",
       "      <td>3</td>\n",
       "      <td>1.0</td>\n",
       "      <td>3</td>\n",
       "      <td>Heikkinen, Miss. Laina</td>\n",
       "      <td>female</td>\n",
       "      <td>26.0</td>\n",
       "      <td>0</td>\n",
       "      <td>0</td>\n",
       "      <td>STON/O2. 3101282</td>\n",
       "      <td>7.9250</td>\n",
       "      <td>NaN</td>\n",
       "      <td>S</td>\n",
       "      <td>2</td>\n",
       "      <td>(16.136, 32.102]</td>\n",
       "      <td>1</td>\n",
       "      <td>(7.896, 14.454]</td>\n",
       "      <td>0</td>\n",
       "      <td>0</td>\n",
       "    </tr>\n",
       "    <tr>\n",
       "      <th>3</th>\n",
       "      <td>4</td>\n",
       "      <td>1.0</td>\n",
       "      <td>1</td>\n",
       "      <td>Futrelle, Mrs. Jacques Heath (Lily May Peel)</td>\n",
       "      <td>female</td>\n",
       "      <td>35.0</td>\n",
       "      <td>1</td>\n",
       "      <td>0</td>\n",
       "      <td>113803</td>\n",
       "      <td>53.1000</td>\n",
       "      <td>C123</td>\n",
       "      <td>S</td>\n",
       "      <td>1</td>\n",
       "      <td>(32.102, 48.068]</td>\n",
       "      <td>2</td>\n",
       "      <td>(31.275, 512.329]</td>\n",
       "      <td>3</td>\n",
       "      <td>1</td>\n",
       "    </tr>\n",
       "    <tr>\n",
       "      <th>4</th>\n",
       "      <td>5</td>\n",
       "      <td>0.0</td>\n",
       "      <td>3</td>\n",
       "      <td>Allen, Mr. William Henry</td>\n",
       "      <td>male</td>\n",
       "      <td>35.0</td>\n",
       "      <td>0</td>\n",
       "      <td>0</td>\n",
       "      <td>373450</td>\n",
       "      <td>8.0500</td>\n",
       "      <td>NaN</td>\n",
       "      <td>S</td>\n",
       "      <td>0</td>\n",
       "      <td>(32.102, 48.068]</td>\n",
       "      <td>2</td>\n",
       "      <td>(7.896, 14.454]</td>\n",
       "      <td>1</td>\n",
       "      <td>0</td>\n",
       "    </tr>\n",
       "  </tbody>\n",
       "</table>\n",
       "</div>"
      ],
      "text/plain": [
       "   PassengerId  Survived  Pclass  \\\n",
       "0            1       0.0       3   \n",
       "1            2       1.0       1   \n",
       "2            3       1.0       3   \n",
       "3            4       1.0       1   \n",
       "4            5       0.0       3   \n",
       "\n",
       "                                                Name     Sex   Age  SibSp  \\\n",
       "0                            Braund, Mr. Owen Harris    male  22.0      1   \n",
       "1  Cumings, Mrs. John Bradley (Florence Briggs Th...  female  38.0      1   \n",
       "2                             Heikkinen, Miss. Laina  female  26.0      0   \n",
       "3       Futrelle, Mrs. Jacques Heath (Lily May Peel)  female  35.0      1   \n",
       "4                           Allen, Mr. William Henry    male  35.0      0   \n",
       "\n",
       "   Parch            Ticket     Fare Cabin Embarked  initial            trying  \\\n",
       "0      0         A/5 21171   7.2500   NaN        S        0  (16.136, 32.102]   \n",
       "1      0          PC 17599  71.2833   C85        C        1  (32.102, 48.068]   \n",
       "2      0  STON/O2. 3101282   7.9250   NaN        S        2  (16.136, 32.102]   \n",
       "3      0            113803  53.1000  C123        S        1  (32.102, 48.068]   \n",
       "4      0            373450   8.0500   NaN        S        0  (32.102, 48.068]   \n",
       "\n",
       "   Mod_age         Fare_Range  Fare_percent  Mod_sibsp  \n",
       "0        1    (-0.001, 7.896]             0          1  \n",
       "1        2  (31.275, 512.329]             3          1  \n",
       "2        1    (7.896, 14.454]             0          0  \n",
       "3        2  (31.275, 512.329]             3          1  \n",
       "4        2    (7.896, 14.454]             1          0  "
      ]
     },
     "execution_count": 31,
     "metadata": {},
     "output_type": "execute_result"
    }
   ],
   "source": [
    "data.head()"
   ]
  },
  {
   "cell_type": "code",
   "execution_count": 32,
   "metadata": {
    "execution": {
     "iopub.execute_input": "2020-08-19T15:19:34.717016Z",
     "iopub.status.busy": "2020-08-19T15:19:34.715998Z",
     "iopub.status.idle": "2020-08-19T15:19:34.721285Z",
     "shell.execute_reply": "2020-08-19T15:19:34.720619Z"
    },
    "papermill": {
     "duration": 0.076017,
     "end_time": "2020-08-19T15:19:34.721417",
     "exception": false,
     "start_time": "2020-08-19T15:19:34.645400",
     "status": "completed"
    },
    "tags": []
   },
   "outputs": [],
   "source": [
    "data.drop(['Name','Age','Fare','Cabin','trying','Fare_Range','Ticket','SibSp'],axis=1,inplace=True)"
   ]
  },
  {
   "cell_type": "code",
   "execution_count": 33,
   "metadata": {
    "execution": {
     "iopub.execute_input": "2020-08-19T15:19:34.861029Z",
     "iopub.status.busy": "2020-08-19T15:19:34.860252Z",
     "iopub.status.idle": "2020-08-19T15:19:34.863827Z",
     "shell.execute_reply": "2020-08-19T15:19:34.863164Z"
    },
    "papermill": {
     "duration": 0.079163,
     "end_time": "2020-08-19T15:19:34.863968",
     "exception": false,
     "start_time": "2020-08-19T15:19:34.784805",
     "status": "completed"
    },
    "tags": []
   },
   "outputs": [],
   "source": [
    "data['Sex'].replace(['male','female'],[0,1],inplace=True)"
   ]
  },
  {
   "cell_type": "code",
   "execution_count": 34,
   "metadata": {
    "execution": {
     "iopub.execute_input": "2020-08-19T15:19:35.001389Z",
     "iopub.status.busy": "2020-08-19T15:19:35.000542Z",
     "iopub.status.idle": "2020-08-19T15:19:35.004522Z",
     "shell.execute_reply": "2020-08-19T15:19:35.003846Z"
    },
    "papermill": {
     "duration": 0.077028,
     "end_time": "2020-08-19T15:19:35.004664",
     "exception": false,
     "start_time": "2020-08-19T15:19:34.927636",
     "status": "completed"
    },
    "tags": []
   },
   "outputs": [],
   "source": [
    "data['Embarked'].replace(['S','C','Q'],[0,1,2],inplace=True)"
   ]
  },
  {
   "cell_type": "code",
   "execution_count": 35,
   "metadata": {
    "execution": {
     "iopub.execute_input": "2020-08-19T15:19:35.148412Z",
     "iopub.status.busy": "2020-08-19T15:19:35.147560Z",
     "iopub.status.idle": "2020-08-19T15:19:35.153129Z",
     "shell.execute_reply": "2020-08-19T15:19:35.152449Z"
    },
    "papermill": {
     "duration": 0.084583,
     "end_time": "2020-08-19T15:19:35.153256",
     "exception": false,
     "start_time": "2020-08-19T15:19:35.068673",
     "status": "completed"
    },
    "tags": []
   },
   "outputs": [
    {
     "data": {
      "text/html": [
       "<div>\n",
       "<style scoped>\n",
       "    .dataframe tbody tr th:only-of-type {\n",
       "        vertical-align: middle;\n",
       "    }\n",
       "\n",
       "    .dataframe tbody tr th {\n",
       "        vertical-align: top;\n",
       "    }\n",
       "\n",
       "    .dataframe thead th {\n",
       "        text-align: right;\n",
       "    }\n",
       "</style>\n",
       "<table border=\"1\" class=\"dataframe\">\n",
       "  <thead>\n",
       "    <tr style=\"text-align: right;\">\n",
       "      <th></th>\n",
       "      <th>PassengerId</th>\n",
       "      <th>Survived</th>\n",
       "      <th>Pclass</th>\n",
       "      <th>Sex</th>\n",
       "      <th>Parch</th>\n",
       "      <th>Embarked</th>\n",
       "      <th>initial</th>\n",
       "      <th>Mod_age</th>\n",
       "      <th>Fare_percent</th>\n",
       "      <th>Mod_sibsp</th>\n",
       "    </tr>\n",
       "  </thead>\n",
       "  <tbody>\n",
       "    <tr>\n",
       "      <th>0</th>\n",
       "      <td>1</td>\n",
       "      <td>0.0</td>\n",
       "      <td>3</td>\n",
       "      <td>0</td>\n",
       "      <td>0</td>\n",
       "      <td>0</td>\n",
       "      <td>0</td>\n",
       "      <td>1</td>\n",
       "      <td>0</td>\n",
       "      <td>1</td>\n",
       "    </tr>\n",
       "    <tr>\n",
       "      <th>1</th>\n",
       "      <td>2</td>\n",
       "      <td>1.0</td>\n",
       "      <td>1</td>\n",
       "      <td>1</td>\n",
       "      <td>0</td>\n",
       "      <td>1</td>\n",
       "      <td>1</td>\n",
       "      <td>2</td>\n",
       "      <td>3</td>\n",
       "      <td>1</td>\n",
       "    </tr>\n",
       "    <tr>\n",
       "      <th>2</th>\n",
       "      <td>3</td>\n",
       "      <td>1.0</td>\n",
       "      <td>3</td>\n",
       "      <td>1</td>\n",
       "      <td>0</td>\n",
       "      <td>0</td>\n",
       "      <td>2</td>\n",
       "      <td>1</td>\n",
       "      <td>0</td>\n",
       "      <td>0</td>\n",
       "    </tr>\n",
       "    <tr>\n",
       "      <th>3</th>\n",
       "      <td>4</td>\n",
       "      <td>1.0</td>\n",
       "      <td>1</td>\n",
       "      <td>1</td>\n",
       "      <td>0</td>\n",
       "      <td>0</td>\n",
       "      <td>1</td>\n",
       "      <td>2</td>\n",
       "      <td>3</td>\n",
       "      <td>1</td>\n",
       "    </tr>\n",
       "    <tr>\n",
       "      <th>4</th>\n",
       "      <td>5</td>\n",
       "      <td>0.0</td>\n",
       "      <td>3</td>\n",
       "      <td>0</td>\n",
       "      <td>0</td>\n",
       "      <td>0</td>\n",
       "      <td>0</td>\n",
       "      <td>2</td>\n",
       "      <td>1</td>\n",
       "      <td>0</td>\n",
       "    </tr>\n",
       "  </tbody>\n",
       "</table>\n",
       "</div>"
      ],
      "text/plain": [
       "   PassengerId  Survived  Pclass  Sex  Parch  Embarked  initial  Mod_age  \\\n",
       "0            1       0.0       3    0      0         0        0        1   \n",
       "1            2       1.0       1    1      0         1        1        2   \n",
       "2            3       1.0       3    1      0         0        2        1   \n",
       "3            4       1.0       1    1      0         0        1        2   \n",
       "4            5       0.0       3    0      0         0        0        2   \n",
       "\n",
       "   Fare_percent  Mod_sibsp  \n",
       "0             0          1  \n",
       "1             3          1  \n",
       "2             0          0  \n",
       "3             3          1  \n",
       "4             1          0  "
      ]
     },
     "execution_count": 35,
     "metadata": {},
     "output_type": "execute_result"
    }
   ],
   "source": [
    "data.head()"
   ]
  },
  {
   "cell_type": "code",
   "execution_count": 36,
   "metadata": {
    "execution": {
     "iopub.execute_input": "2020-08-19T15:19:35.290310Z",
     "iopub.status.busy": "2020-08-19T15:19:35.289484Z",
     "iopub.status.idle": "2020-08-19T15:19:35.296033Z",
     "shell.execute_reply": "2020-08-19T15:19:35.295247Z"
    },
    "papermill": {
     "duration": 0.077963,
     "end_time": "2020-08-19T15:19:35.296168",
     "exception": false,
     "start_time": "2020-08-19T15:19:35.218205",
     "status": "completed"
    },
    "tags": []
   },
   "outputs": [],
   "source": [
    "train1 = data.iloc[:891, :]\n",
    "test1  = data.iloc[891:, :]\n",
    "test1.drop(['Survived'],axis=1,inplace=True)"
   ]
  },
  {
   "cell_type": "code",
   "execution_count": 37,
   "metadata": {
    "execution": {
     "iopub.execute_input": "2020-08-19T15:19:35.441627Z",
     "iopub.status.busy": "2020-08-19T15:19:35.440785Z",
     "iopub.status.idle": "2020-08-19T15:19:35.446290Z",
     "shell.execute_reply": "2020-08-19T15:19:35.445692Z"
    },
    "papermill": {
     "duration": 0.085129,
     "end_time": "2020-08-19T15:19:35.446441",
     "exception": false,
     "start_time": "2020-08-19T15:19:35.361312",
     "status": "completed"
    },
    "tags": []
   },
   "outputs": [
    {
     "data": {
      "text/html": [
       "<div>\n",
       "<style scoped>\n",
       "    .dataframe tbody tr th:only-of-type {\n",
       "        vertical-align: middle;\n",
       "    }\n",
       "\n",
       "    .dataframe tbody tr th {\n",
       "        vertical-align: top;\n",
       "    }\n",
       "\n",
       "    .dataframe thead th {\n",
       "        text-align: right;\n",
       "    }\n",
       "</style>\n",
       "<table border=\"1\" class=\"dataframe\">\n",
       "  <thead>\n",
       "    <tr style=\"text-align: right;\">\n",
       "      <th></th>\n",
       "      <th>PassengerId</th>\n",
       "      <th>Survived</th>\n",
       "      <th>Pclass</th>\n",
       "      <th>Sex</th>\n",
       "      <th>Parch</th>\n",
       "      <th>Embarked</th>\n",
       "      <th>initial</th>\n",
       "      <th>Mod_age</th>\n",
       "      <th>Fare_percent</th>\n",
       "      <th>Mod_sibsp</th>\n",
       "    </tr>\n",
       "  </thead>\n",
       "  <tbody>\n",
       "    <tr>\n",
       "      <th>0</th>\n",
       "      <td>1</td>\n",
       "      <td>0.0</td>\n",
       "      <td>3</td>\n",
       "      <td>0</td>\n",
       "      <td>0</td>\n",
       "      <td>0</td>\n",
       "      <td>0</td>\n",
       "      <td>1</td>\n",
       "      <td>0</td>\n",
       "      <td>1</td>\n",
       "    </tr>\n",
       "    <tr>\n",
       "      <th>1</th>\n",
       "      <td>2</td>\n",
       "      <td>1.0</td>\n",
       "      <td>1</td>\n",
       "      <td>1</td>\n",
       "      <td>0</td>\n",
       "      <td>1</td>\n",
       "      <td>1</td>\n",
       "      <td>2</td>\n",
       "      <td>3</td>\n",
       "      <td>1</td>\n",
       "    </tr>\n",
       "    <tr>\n",
       "      <th>2</th>\n",
       "      <td>3</td>\n",
       "      <td>1.0</td>\n",
       "      <td>3</td>\n",
       "      <td>1</td>\n",
       "      <td>0</td>\n",
       "      <td>0</td>\n",
       "      <td>2</td>\n",
       "      <td>1</td>\n",
       "      <td>0</td>\n",
       "      <td>0</td>\n",
       "    </tr>\n",
       "    <tr>\n",
       "      <th>3</th>\n",
       "      <td>4</td>\n",
       "      <td>1.0</td>\n",
       "      <td>1</td>\n",
       "      <td>1</td>\n",
       "      <td>0</td>\n",
       "      <td>0</td>\n",
       "      <td>1</td>\n",
       "      <td>2</td>\n",
       "      <td>3</td>\n",
       "      <td>1</td>\n",
       "    </tr>\n",
       "    <tr>\n",
       "      <th>4</th>\n",
       "      <td>5</td>\n",
       "      <td>0.0</td>\n",
       "      <td>3</td>\n",
       "      <td>0</td>\n",
       "      <td>0</td>\n",
       "      <td>0</td>\n",
       "      <td>0</td>\n",
       "      <td>2</td>\n",
       "      <td>1</td>\n",
       "      <td>0</td>\n",
       "    </tr>\n",
       "  </tbody>\n",
       "</table>\n",
       "</div>"
      ],
      "text/plain": [
       "   PassengerId  Survived  Pclass  Sex  Parch  Embarked  initial  Mod_age  \\\n",
       "0            1       0.0       3    0      0         0        0        1   \n",
       "1            2       1.0       1    1      0         1        1        2   \n",
       "2            3       1.0       3    1      0         0        2        1   \n",
       "3            4       1.0       1    1      0         0        1        2   \n",
       "4            5       0.0       3    0      0         0        0        2   \n",
       "\n",
       "   Fare_percent  Mod_sibsp  \n",
       "0             0          1  \n",
       "1             3          1  \n",
       "2             0          0  \n",
       "3             3          1  \n",
       "4             1          0  "
      ]
     },
     "execution_count": 37,
     "metadata": {},
     "output_type": "execute_result"
    }
   ],
   "source": [
    "train1.head()"
   ]
  },
  {
   "cell_type": "code",
   "execution_count": 38,
   "metadata": {
    "execution": {
     "iopub.execute_input": "2020-08-19T15:19:35.587749Z",
     "iopub.status.busy": "2020-08-19T15:19:35.586645Z",
     "iopub.status.idle": "2020-08-19T15:19:35.590203Z",
     "shell.execute_reply": "2020-08-19T15:19:35.589496Z"
    },
    "papermill": {
     "duration": 0.077743,
     "end_time": "2020-08-19T15:19:35.590337",
     "exception": false,
     "start_time": "2020-08-19T15:19:35.512594",
     "status": "completed"
    },
    "tags": []
   },
   "outputs": [],
   "source": [
    "x_data=train1[['Sex','Embarked','initial','Fare_percent','Mod_sibsp','Pclass','Mod_age','Parch']]\n",
    "y_data=train1['Survived']"
   ]
  },
  {
   "cell_type": "code",
   "execution_count": 39,
   "metadata": {
    "execution": {
     "iopub.execute_input": "2020-08-19T15:19:35.728714Z",
     "iopub.status.busy": "2020-08-19T15:19:35.727924Z",
     "iopub.status.idle": "2020-08-19T15:19:35.805509Z",
     "shell.execute_reply": "2020-08-19T15:19:35.804770Z"
    },
    "papermill": {
     "duration": 0.148919,
     "end_time": "2020-08-19T15:19:35.805648",
     "exception": false,
     "start_time": "2020-08-19T15:19:35.656729",
     "status": "completed"
    },
    "tags": []
   },
   "outputs": [],
   "source": [
    "from sklearn.preprocessing import StandardScaler \n",
    "x_data= StandardScaler().fit(x_data).transform(x_data)\n"
   ]
  },
  {
   "cell_type": "code",
   "execution_count": 40,
   "metadata": {
    "execution": {
     "iopub.execute_input": "2020-08-19T15:19:35.944014Z",
     "iopub.status.busy": "2020-08-19T15:19:35.943233Z",
     "iopub.status.idle": "2020-08-19T15:19:35.993867Z",
     "shell.execute_reply": "2020-08-19T15:19:35.993158Z"
    },
    "papermill": {
     "duration": 0.122215,
     "end_time": "2020-08-19T15:19:35.994002",
     "exception": false,
     "start_time": "2020-08-19T15:19:35.871787",
     "status": "completed"
    },
    "tags": []
   },
   "outputs": [],
   "source": [
    "from sklearn.model_selection import train_test_split as tts\n",
    "xtrain,xtest,ytrain,ytest=tts(x_data,y_data,test_size=0.2,random_state=2)"
   ]
  },
  {
   "cell_type": "code",
   "execution_count": 41,
   "metadata": {
    "execution": {
     "iopub.execute_input": "2020-08-19T15:19:36.133349Z",
     "iopub.status.busy": "2020-08-19T15:19:36.132246Z",
     "iopub.status.idle": "2020-08-19T15:19:36.211264Z",
     "shell.execute_reply": "2020-08-19T15:19:36.211890Z"
    },
    "papermill": {
     "duration": 0.152115,
     "end_time": "2020-08-19T15:19:36.212078",
     "exception": false,
     "start_time": "2020-08-19T15:19:36.059963",
     "status": "completed"
    },
    "tags": []
   },
   "outputs": [],
   "source": [
    "from sklearn import svm\n",
    "from sklearn.metrics import accuracy_score as acc, jaccard_similarity_score as jss"
   ]
  },
  {
   "cell_type": "code",
   "execution_count": 42,
   "metadata": {
    "execution": {
     "iopub.execute_input": "2020-08-19T15:19:36.353258Z",
     "iopub.status.busy": "2020-08-19T15:19:36.352246Z",
     "iopub.status.idle": "2020-08-19T15:19:36.377210Z",
     "shell.execute_reply": "2020-08-19T15:19:36.377815Z"
    },
    "papermill": {
     "duration": 0.099504,
     "end_time": "2020-08-19T15:19:36.378027",
     "exception": false,
     "start_time": "2020-08-19T15:19:36.278523",
     "status": "completed"
    },
    "tags": []
   },
   "outputs": [
    {
     "name": "stdout",
     "output_type": "stream",
     "text": [
      "0.8044692737430168\n",
      "0.8044692737430168\n"
     ]
    }
   ],
   "source": [
    "model3=svm.SVC(C=0.1,kernel='rbf',gamma=0.1)\n",
    "model3.fit(xtrain,ytrain)\n",
    "pred3=model3.predict(xtest)\n",
    "print(acc(ytest,pred3))\n",
    "print(jss(ytest,pred3))"
   ]
  },
  {
   "cell_type": "code",
   "execution_count": 43,
   "metadata": {
    "execution": {
     "iopub.execute_input": "2020-08-19T15:19:36.522816Z",
     "iopub.status.busy": "2020-08-19T15:19:36.521383Z",
     "iopub.status.idle": "2020-08-19T15:19:41.546042Z",
     "shell.execute_reply": "2020-08-19T15:19:41.546645Z"
    },
    "papermill": {
     "duration": 5.102164,
     "end_time": "2020-08-19T15:19:41.546822",
     "exception": false,
     "start_time": "2020-08-19T15:19:36.444658",
     "status": "completed"
    },
    "tags": []
   },
   "outputs": [
    {
     "name": "stdout",
     "output_type": "stream",
     "text": [
      "Fitting 5 folds for each of 35 candidates, totalling 175 fits\n"
     ]
    },
    {
     "name": "stderr",
     "output_type": "stream",
     "text": [
      "[Parallel(n_jobs=1)]: Using backend SequentialBackend with 1 concurrent workers.\n"
     ]
    },
    {
     "name": "stdout",
     "output_type": "stream",
     "text": [
      "0.828278199736363 SVC(C=1, break_ties=False, cache_size=200, class_weight=None, coef0=0.0,\n",
      "    decision_function_shape='ovr', degree=3, gamma=0.1, kernel='rbf',\n",
      "    max_iter=-1, probability=False, random_state=None, shrinking=True,\n",
      "    tol=0.001, verbose=False)\n"
     ]
    },
    {
     "name": "stderr",
     "output_type": "stream",
     "text": [
      "[Parallel(n_jobs=1)]: Done 175 out of 175 | elapsed:    5.0s finished\n"
     ]
    }
   ],
   "source": [
    "from sklearn.model_selection import GridSearchCV\n",
    "param= {'C': [0.05,0.1,0.2,1, 10, 100, 1000],'gamma': [1, 0.1, 0.01, 0.001, 0.0001],'kernel': ['rbf']}\n",
    "gd=GridSearchCV(estimator=svm.SVC(),param_grid=param,verbose=True)\n",
    "gd.fit(x_data,y_data)\n",
    "print(gd.best_score_,gd.best_estimator_)"
   ]
  },
  {
   "cell_type": "code",
   "execution_count": 44,
   "metadata": {
    "execution": {
     "iopub.execute_input": "2020-08-19T15:19:41.694095Z",
     "iopub.status.busy": "2020-08-19T15:19:41.693261Z",
     "iopub.status.idle": "2020-08-19T15:19:41.716000Z",
     "shell.execute_reply": "2020-08-19T15:19:41.715035Z"
    },
    "papermill": {
     "duration": 0.100159,
     "end_time": "2020-08-19T15:19:41.716192",
     "exception": false,
     "start_time": "2020-08-19T15:19:41.616033",
     "status": "completed"
    },
    "tags": []
   },
   "outputs": [
    {
     "name": "stdout",
     "output_type": "stream",
     "text": [
      "0.8044692737430168\n",
      "0.8044692737430168\n"
     ]
    }
   ],
   "source": [
    "model=svm.SVC(C=0.2,kernel='rbf',gamma=0.1)\n",
    "model.fit(xtrain,ytrain)\n",
    "pred=model.predict(xtest)\n",
    "print(acc(ytest,pred))\n",
    "print(jss(ytest,pred))"
   ]
  },
  {
   "cell_type": "code",
   "execution_count": 45,
   "metadata": {
    "execution": {
     "iopub.execute_input": "2020-08-19T15:19:41.864030Z",
     "iopub.status.busy": "2020-08-19T15:19:41.863116Z",
     "iopub.status.idle": "2020-08-19T15:19:43.206489Z",
     "shell.execute_reply": "2020-08-19T15:19:43.207687Z"
    },
    "papermill": {
     "duration": 1.421863,
     "end_time": "2020-08-19T15:19:43.207912",
     "exception": false,
     "start_time": "2020-08-19T15:19:41.786049",
     "status": "completed"
    },
    "tags": []
   },
   "outputs": [],
   "source": [
    "from xgboost.sklearn import XGBClassifier\n",
    "xgb1 = XGBClassifier(learning_rate =0.05,n_estimators=1000,max_depth=5,min_child_weight=1,gamma=0,subsample=0.8,colsample_bytree=0.8,objective= 'binary:logistic',nthread=4,scale_pos_weight=1,seed=27)\n",
    "xgb1.fit(xtrain,ytrain)\n",
    "pred1=xgb1.predict(xtest)"
   ]
  },
  {
   "cell_type": "code",
   "execution_count": 46,
   "metadata": {
    "execution": {
     "iopub.execute_input": "2020-08-19T15:19:43.385814Z",
     "iopub.status.busy": "2020-08-19T15:19:43.384807Z",
     "iopub.status.idle": "2020-08-19T15:19:43.388329Z",
     "shell.execute_reply": "2020-08-19T15:19:43.389047Z"
    },
    "papermill": {
     "duration": 0.097112,
     "end_time": "2020-08-19T15:19:43.389244",
     "exception": false,
     "start_time": "2020-08-19T15:19:43.292132",
     "status": "completed"
    },
    "tags": []
   },
   "outputs": [
    {
     "name": "stdout",
     "output_type": "stream",
     "text": [
      "0.8044692737430168\n",
      "0.8044692737430168\n"
     ]
    }
   ],
   "source": [
    "print(acc(ytest,pred1))\n",
    "print(jss(ytest,pred1))"
   ]
  },
  {
   "cell_type": "code",
   "execution_count": 47,
   "metadata": {
    "execution": {
     "iopub.execute_input": "2020-08-19T15:19:43.542344Z",
     "iopub.status.busy": "2020-08-19T15:19:43.541027Z",
     "iopub.status.idle": "2020-08-19T15:20:05.290644Z",
     "shell.execute_reply": "2020-08-19T15:20:05.291519Z"
    },
    "papermill": {
     "duration": 21.830746,
     "end_time": "2020-08-19T15:20:05.291781",
     "exception": false,
     "start_time": "2020-08-19T15:19:43.461035",
     "status": "completed"
    },
    "tags": []
   },
   "outputs": [
    {
     "name": "stdout",
     "output_type": "stream",
     "text": [
      "{'max_depth': 5, 'min_child_weight': 3} 0.8802101602145009\n"
     ]
    }
   ],
   "source": [
    "param_test1 = {'max_depth':range(3,10,2),'min_child_weight':range(1,6,2)}\n",
    "gd1 = GridSearchCV(estimator = XGBClassifier( learning_rate =0.05, n_estimators=140, max_depth=5,min_child_weight=1, gamma=0, subsample=0.8, colsample_bytree=0.8,\n",
    " objective= 'binary:logistic', nthread=4, scale_pos_weight=1, seed=27),param_grid = param_test1, scoring='roc_auc',n_jobs=4,iid=False, cv=5)\n",
    "gd1.fit(x_data,y_data)\n",
    "print(gd1.best_params_, gd1.best_score_)"
   ]
  },
  {
   "cell_type": "code",
   "execution_count": 48,
   "metadata": {
    "execution": {
     "iopub.execute_input": "2020-08-19T15:20:05.495303Z",
     "iopub.status.busy": "2020-08-19T15:20:05.494126Z",
     "iopub.status.idle": "2020-08-19T15:20:11.139778Z",
     "shell.execute_reply": "2020-08-19T15:20:11.140658Z"
    },
    "papermill": {
     "duration": 5.756262,
     "end_time": "2020-08-19T15:20:11.140899",
     "exception": false,
     "start_time": "2020-08-19T15:20:05.384637",
     "status": "completed"
    },
    "tags": []
   },
   "outputs": [
    {
     "name": "stdout",
     "output_type": "stream",
     "text": [
      "{'gamma': 0.1} 0.8784037564694082\n"
     ]
    }
   ],
   "source": [
    "param_test3 = {'gamma':[i/10.0 for i in range(0,5)]}\n",
    "gd2 = GridSearchCV(estimator = XGBClassifier( learning_rate =0.05, n_estimators=140, max_depth=3,\n",
    " min_child_weight=5, gamma=0, subsample=0.8, colsample_bytree=0.8,\n",
    " objective= 'binary:logistic', nthread=4, scale_pos_weight=1,seed=27), \n",
    " param_grid = param_test3, scoring='roc_auc',n_jobs=4,iid=False, cv=5)\n",
    "gd2.fit(x_data,y_data)\n",
    "print(gd2.best_params_, gd2.best_score_)\n",
    "\n"
   ]
  },
  {
   "cell_type": "code",
   "execution_count": 49,
   "metadata": {
    "execution": {
     "iopub.execute_input": "2020-08-19T15:20:11.383417Z",
     "iopub.status.busy": "2020-08-19T15:20:11.382242Z",
     "iopub.status.idle": "2020-08-19T15:20:29.764523Z",
     "shell.execute_reply": "2020-08-19T15:20:29.765611Z"
    },
    "papermill": {
     "duration": 18.471919,
     "end_time": "2020-08-19T15:20:29.765879",
     "exception": false,
     "start_time": "2020-08-19T15:20:11.293960",
     "status": "completed"
    },
    "tags": []
   },
   "outputs": [
    {
     "name": "stdout",
     "output_type": "stream",
     "text": [
      "{'colsample_bytree': 0.9, 'subsample': 0.6} 0.8793639911634233\n"
     ]
    }
   ],
   "source": [
    "param_test4 = {'subsample':[i/10.0 for i in range(6,10)],'colsample_bytree':[i/10.0 for i in range(6,10)]}\n",
    "gd3 = GridSearchCV(estimator = XGBClassifier( learning_rate =0.05, n_estimators=177, max_depth=3,\n",
    " min_child_weight=5, gamma=0.1, subsample=0.8, colsample_bytree=0.8,\n",
    " objective= 'binary:logistic', nthread=4, scale_pos_weight=1,seed=27), \n",
    " param_grid = param_test4, scoring='roc_auc',n_jobs=4,iid=False, cv=5)\n",
    "gd3.fit(x_data,y_data)\n",
    "print(gd3.best_params_, gd3.best_score_)"
   ]
  },
  {
   "cell_type": "code",
   "execution_count": 50,
   "metadata": {
    "execution": {
     "iopub.execute_input": "2020-08-19T15:20:29.950808Z",
     "iopub.status.busy": "2020-08-19T15:20:29.949634Z",
     "iopub.status.idle": "2020-08-19T15:20:35.692311Z",
     "shell.execute_reply": "2020-08-19T15:20:35.693558Z"
    },
    "papermill": {
     "duration": 5.841904,
     "end_time": "2020-08-19T15:20:35.693813",
     "exception": false,
     "start_time": "2020-08-19T15:20:29.851909",
     "status": "completed"
    },
    "tags": []
   },
   "outputs": [
    {
     "name": "stdout",
     "output_type": "stream",
     "text": [
      "{'reg_alpha': 1e-05} 0.8785085681659979\n"
     ]
    }
   ],
   "source": [
    "param_test6 = {'reg_alpha':[1e-5, 1e-2, 0.1, 1, 100]}\n",
    "gd4 = GridSearchCV(estimator = XGBClassifier( learning_rate =0.05, n_estimators=177, max_depth=3,\n",
    " min_child_weight=5, gamma=0.1, subsample=0.9, colsample_bytree=0.8,\n",
    " objective= 'binary:logistic', nthread=4, scale_pos_weight=1,seed=27), \n",
    " param_grid = param_test6, scoring='roc_auc',n_jobs=4,iid=False, cv=5)\n",
    "gd4.fit(x_data,y_data)\n",
    "print(gd4.best_params_, gd4.best_score_)"
   ]
  },
  {
   "cell_type": "code",
   "execution_count": 51,
   "metadata": {
    "execution": {
     "iopub.execute_input": "2020-08-19T15:20:35.879097Z",
     "iopub.status.busy": "2020-08-19T15:20:35.878188Z",
     "iopub.status.idle": "2020-08-19T15:20:35.932399Z",
     "shell.execute_reply": "2020-08-19T15:20:35.933148Z"
    },
    "papermill": {
     "duration": 0.152853,
     "end_time": "2020-08-19T15:20:35.933349",
     "exception": false,
     "start_time": "2020-08-19T15:20:35.780496",
     "status": "completed"
    },
    "tags": []
   },
   "outputs": [],
   "source": [
    "xgb2 = XGBClassifier(learning_rate =0.01,n_estimators=177,max_depth=3,min_child_weight=5,gamma=0.1,subsample=0.9,colsample_bytree=0.8,reg_alpha=1e-05,objective= 'binary:logistic',nthread=4,scale_pos_weight=1,seed=27)\n",
    "xgb2.fit(xtrain,ytrain)\n",
    "pred2=xgb2.predict(xtest)"
   ]
  },
  {
   "cell_type": "code",
   "execution_count": 52,
   "metadata": {
    "execution": {
     "iopub.execute_input": "2020-08-19T15:20:36.123531Z",
     "iopub.status.busy": "2020-08-19T15:20:36.122523Z",
     "iopub.status.idle": "2020-08-19T15:20:36.126208Z",
     "shell.execute_reply": "2020-08-19T15:20:36.126896Z"
    },
    "papermill": {
     "duration": 0.105707,
     "end_time": "2020-08-19T15:20:36.127089",
     "exception": false,
     "start_time": "2020-08-19T15:20:36.021382",
     "status": "completed"
    },
    "tags": []
   },
   "outputs": [
    {
     "name": "stdout",
     "output_type": "stream",
     "text": [
      "0.7988826815642458\n",
      "0.7988826815642458\n"
     ]
    }
   ],
   "source": [
    "print(acc(ytest,pred2))\n",
    "print(jss(ytest,pred2))"
   ]
  },
  {
   "cell_type": "code",
   "execution_count": 53,
   "metadata": {
    "execution": {
     "iopub.execute_input": "2020-08-19T15:20:36.294039Z",
     "iopub.status.busy": "2020-08-19T15:20:36.293034Z",
     "iopub.status.idle": "2020-08-19T15:20:36.298319Z",
     "shell.execute_reply": "2020-08-19T15:20:36.297705Z"
    },
    "papermill": {
     "duration": 0.096216,
     "end_time": "2020-08-19T15:20:36.298479",
     "exception": false,
     "start_time": "2020-08-19T15:20:36.202263",
     "status": "completed"
    },
    "tags": []
   },
   "outputs": [
    {
     "data": {
      "text/html": [
       "<div>\n",
       "<style scoped>\n",
       "    .dataframe tbody tr th:only-of-type {\n",
       "        vertical-align: middle;\n",
       "    }\n",
       "\n",
       "    .dataframe tbody tr th {\n",
       "        vertical-align: top;\n",
       "    }\n",
       "\n",
       "    .dataframe thead th {\n",
       "        text-align: right;\n",
       "    }\n",
       "</style>\n",
       "<table border=\"1\" class=\"dataframe\">\n",
       "  <thead>\n",
       "    <tr style=\"text-align: right;\">\n",
       "      <th></th>\n",
       "      <th>PassengerId</th>\n",
       "      <th>Pclass</th>\n",
       "      <th>Sex</th>\n",
       "      <th>Parch</th>\n",
       "      <th>Embarked</th>\n",
       "      <th>initial</th>\n",
       "      <th>Mod_age</th>\n",
       "      <th>Fare_percent</th>\n",
       "      <th>Mod_sibsp</th>\n",
       "    </tr>\n",
       "  </thead>\n",
       "  <tbody>\n",
       "    <tr>\n",
       "      <th>891</th>\n",
       "      <td>892</td>\n",
       "      <td>3</td>\n",
       "      <td>0</td>\n",
       "      <td>0</td>\n",
       "      <td>2</td>\n",
       "      <td>0</td>\n",
       "      <td>2</td>\n",
       "      <td>0</td>\n",
       "      <td>0</td>\n",
       "    </tr>\n",
       "    <tr>\n",
       "      <th>892</th>\n",
       "      <td>893</td>\n",
       "      <td>3</td>\n",
       "      <td>1</td>\n",
       "      <td>0</td>\n",
       "      <td>0</td>\n",
       "      <td>1</td>\n",
       "      <td>2</td>\n",
       "      <td>0</td>\n",
       "      <td>1</td>\n",
       "    </tr>\n",
       "    <tr>\n",
       "      <th>893</th>\n",
       "      <td>894</td>\n",
       "      <td>2</td>\n",
       "      <td>0</td>\n",
       "      <td>0</td>\n",
       "      <td>2</td>\n",
       "      <td>0</td>\n",
       "      <td>3</td>\n",
       "      <td>1</td>\n",
       "      <td>0</td>\n",
       "    </tr>\n",
       "    <tr>\n",
       "      <th>894</th>\n",
       "      <td>895</td>\n",
       "      <td>3</td>\n",
       "      <td>0</td>\n",
       "      <td>0</td>\n",
       "      <td>0</td>\n",
       "      <td>0</td>\n",
       "      <td>1</td>\n",
       "      <td>1</td>\n",
       "      <td>0</td>\n",
       "    </tr>\n",
       "    <tr>\n",
       "      <th>895</th>\n",
       "      <td>896</td>\n",
       "      <td>3</td>\n",
       "      <td>1</td>\n",
       "      <td>1</td>\n",
       "      <td>0</td>\n",
       "      <td>1</td>\n",
       "      <td>1</td>\n",
       "      <td>1</td>\n",
       "      <td>2</td>\n",
       "    </tr>\n",
       "  </tbody>\n",
       "</table>\n",
       "</div>"
      ],
      "text/plain": [
       "     PassengerId  Pclass  Sex  Parch  Embarked  initial  Mod_age  \\\n",
       "891          892       3    0      0         2        0        2   \n",
       "892          893       3    1      0         0        1        2   \n",
       "893          894       2    0      0         2        0        3   \n",
       "894          895       3    0      0         0        0        1   \n",
       "895          896       3    1      1         0        1        1   \n",
       "\n",
       "     Fare_percent  Mod_sibsp  \n",
       "891             0          0  \n",
       "892             0          1  \n",
       "893             1          0  \n",
       "894             1          0  \n",
       "895             1          2  "
      ]
     },
     "execution_count": 53,
     "metadata": {},
     "output_type": "execute_result"
    }
   ],
   "source": [
    "test1.head()"
   ]
  },
  {
   "cell_type": "code",
   "execution_count": 54,
   "metadata": {
    "execution": {
     "iopub.execute_input": "2020-08-19T15:20:36.461886Z",
     "iopub.status.busy": "2020-08-19T15:20:36.460772Z",
     "iopub.status.idle": "2020-08-19T15:20:36.466822Z",
     "shell.execute_reply": "2020-08-19T15:20:36.466176Z"
    },
    "papermill": {
     "duration": 0.093575,
     "end_time": "2020-08-19T15:20:36.466975",
     "exception": false,
     "start_time": "2020-08-19T15:20:36.373400",
     "status": "completed"
    },
    "tags": []
   },
   "outputs": [],
   "source": [
    "req=test1[['Sex','Embarked','initial','Fare_percent','Mod_sibsp','Pclass','Mod_age','Parch']]\n",
    "req=req.values\n",
    "predictions=xgb2.predict(req)\n",
    "output = pd.DataFrame({'PassengerId': test1.PassengerId, 'Survived': predictions})"
   ]
  },
  {
   "cell_type": "code",
   "execution_count": 55,
   "metadata": {
    "execution": {
     "iopub.execute_input": "2020-08-19T15:20:36.651604Z",
     "iopub.status.busy": "2020-08-19T15:20:36.650595Z",
     "iopub.status.idle": "2020-08-19T15:20:36.717344Z",
     "shell.execute_reply": "2020-08-19T15:20:36.717925Z"
    },
    "papermill": {
     "duration": 0.162011,
     "end_time": "2020-08-19T15:20:36.718103",
     "exception": false,
     "start_time": "2020-08-19T15:20:36.556092",
     "status": "completed"
    },
    "tags": []
   },
   "outputs": [
    {
     "name": "stdout",
     "output_type": "stream",
     "text": [
      "Your submission was successfully saved!\n"
     ]
    }
   ],
   "source": [
    "output.to_csv('my_submission.csv', index=False)\n",
    "print(\"Your submission was successfully saved!\")"
   ]
  },
  {
   "cell_type": "code",
   "execution_count": null,
   "metadata": {
    "papermill": {
     "duration": 0.07465,
     "end_time": "2020-08-19T15:20:36.868020",
     "exception": false,
     "start_time": "2020-08-19T15:20:36.793370",
     "status": "completed"
    },
    "tags": []
   },
   "outputs": [],
   "source": []
  }
 ],
 "metadata": {
  "kernelspec": {
   "display_name": "Python 3",
   "language": "python",
   "name": "python3"
  },
  "language_info": {
   "codemirror_mode": {
    "name": "ipython",
    "version": 3
   },
   "file_extension": ".py",
   "mimetype": "text/x-python",
   "name": "python",
   "nbconvert_exporter": "python",
   "pygments_lexer": "ipython3",
   "version": "3.7.6"
  },
  "papermill": {
   "duration": 74.478115,
   "end_time": "2020-08-19T15:20:37.051893",
   "environment_variables": {},
   "exception": null,
   "input_path": "__notebook__.ipynb",
   "output_path": "__notebook__.ipynb",
   "parameters": {},
   "start_time": "2020-08-19T15:19:22.573778",
   "version": "2.1.0"
  }
 },
 "nbformat": 4,
 "nbformat_minor": 4
}
